{
 "cells": [
  {
   "cell_type": "markdown",
   "metadata": {
    "collapsed": true
   },
   "source": [
    "# Predicting House Sale Prices\n",
    "\n",
    "I will use housing data for the city of Ames, Iowa from 2006 to 2010 to create models that can predict housing prices in that city for a given set of features. The dataset can be downloaded [here](https://dsserver-prod-resources-1.s3.amazonaws.com/235/AmesHousing.txt), and you can learn more about the columns [here](https://s3.amazonaws.com/dq-content/307/data_description.txt)\n",
    "\n",
    "I will begin by setting up a pipeline that will let us quickly iterate on different models."
   ]
  },
  {
   "cell_type": "code",
   "execution_count": 39,
   "metadata": {
    "collapsed": false
   },
   "outputs": [],
   "source": [
    "import pandas as pd\n",
    "import numpy as np\n",
    "import matplotlib.pyplot as plt\n",
    "%matplotlib inline\n",
    "from sklearn.linear_model import LinearRegression\n",
    "from sklearn.metrics import mean_squared_error\n",
    "import seaborn as sns\n",
    "\n",
    "pd.options.display.max_columns = 999\n",
    "\n",
    "houses = pd.read_csv('AmesHousing.tsv', delimiter = '\\t')"
   ]
  },
  {
   "cell_type": "code",
   "execution_count": 40,
   "metadata": {
    "collapsed": true
   },
   "outputs": [],
   "source": [
    "def transform_features(df):\n",
    "    # returns DF. Will update later\n",
    "    return df\n",
    "\n",
    "def select_features(df):\n",
    "    # returns 'Gr Liv Area' and 'SalePrice' columns. Will update later\n",
    "    return df[['Gr Liv Area', 'SalePrice']]\n",
    "\n",
    "def train_and_test(df):\n",
    "    \n",
    "    # Set first 1460 rows to train, set remaining rows to test\n",
    "    train = df[0:1460]\n",
    "    test = df[1460:]\n",
    "    \n",
    "    # Select only numeric data\n",
    "    train_num = train.select_dtypes(include=['integer', 'float'])\n",
    "    test_num = test.select_dtypes(include=['integer', 'float'])\n",
    "    \n",
    "    # Select all numerical columns returned from select_features except 'SalePrice', which we want to predict\n",
    "    features = select_features(train_num).columns.drop('SalePrice')\n",
    "    \n",
    "    # Trains a model using selected features, tests it on test data, and returns root mean squared error from test\n",
    "    lr = LinearRegression()\n",
    "    lr.fit(train_num[features], train_num['SalePrice'])\n",
    "    predictions = lr.predict(test_num[features])\n",
    "    rmse = mean_squared_error(predictions, test_num['SalePrice'])**(1/2)\n",
    "    return rmse"
   ]
  },
  {
   "cell_type": "code",
   "execution_count": 41,
   "metadata": {
    "collapsed": false
   },
   "outputs": [
    {
     "name": "stdout",
     "output_type": "stream",
     "text": [
      "57088.25161263909\n"
     ]
    }
   ],
   "source": [
    "rmse = train_and_test(houses)\n",
    "print(rmse)"
   ]
  },
  {
   "cell_type": "markdown",
   "metadata": {},
   "source": [
    "Now we will update transform features to:\n",
    "- remove features we don't want to use in the model, based on number of missing values or data leakage\n",
    "- transform features into the proper format\n",
    "- create new features by combining other features\n",
    "\n",
    "Handle missing values:\n",
    "- Columns with > 5% missing values: drop column\n",
    "- Numerical columns with < 5% missing data: fill null values with mode of column\n",
    "- Text columns: drop all columns that contain any missing values\n",
    "\n",
    "New features:\n",
    "- Years before sold - difference between Year Sold and Year Build\n",
    "- Years since remodel - difference between Year Remod/Add and Year Sold\n",
    "\n",
    "Drop columns that:\n",
    "- aren't useful for ML (PID, Order)\n",
    "- Leak data about the final sale (Mo Sold, Sale Condition, Sale Type, Yr Sold)\n",
    "\n",
    "\n",
    "I will first work with this on a separate df to test, then implement it into a function"
   ]
  },
  {
   "cell_type": "code",
   "execution_count": 4,
   "metadata": {
    "collapsed": true
   },
   "outputs": [],
   "source": [
    "# Drop cols with > 5% missing values\n",
    "df = houses\n",
    "num_missing = df.isnull().sum()\n",
    "drop_missing = num_missing[num_missing > .05 * len(df)]\n",
    "df = df.drop(drop_missing.index, axis=1)"
   ]
  },
  {
   "cell_type": "code",
   "execution_count": 5,
   "metadata": {
    "collapsed": false
   },
   "outputs": [
    {
     "data": {
      "text/plain": [
       "Mas Vnr Area      23\n",
       "BsmtFin SF 1       1\n",
       "BsmtFin SF 2       1\n",
       "Bsmt Unf SF        1\n",
       "Total Bsmt SF      1\n",
       "Bsmt Full Bath     2\n",
       "Bsmt Half Bath     2\n",
       "Garage Cars        1\n",
       "Garage Area        1\n",
       "dtype: int64"
      ]
     },
     "execution_count": 5,
     "metadata": {},
     "output_type": "execute_result"
    }
   ],
   "source": [
    "# Fill in numerical columns with mode of column\n",
    "num_cols = df.select_dtypes(include=['int', 'float']).isnull().sum()\n",
    "num_cols[num_cols > 0]"
   ]
  },
  {
   "cell_type": "code",
   "execution_count": 6,
   "metadata": {
    "collapsed": false
   },
   "outputs": [
    {
     "data": {
      "text/plain": [
       "Mas Vnr Area      23\n",
       "BsmtFin SF 1       1\n",
       "BsmtFin SF 2       1\n",
       "Bsmt Unf SF        1\n",
       "Total Bsmt SF      1\n",
       "Bsmt Full Bath     2\n",
       "Bsmt Half Bath     2\n",
       "Garage Cars        1\n",
       "Garage Area        1\n",
       "dtype: int64"
      ]
     },
     "execution_count": 6,
     "metadata": {},
     "output_type": "execute_result"
    }
   ],
   "source": [
    "fixable_cols = num_cols[(num_cols < .05 * len(df)) & (num_cols > 0)]\n",
    "fixable_cols"
   ]
  },
  {
   "cell_type": "code",
   "execution_count": 7,
   "metadata": {
    "collapsed": false
   },
   "outputs": [
    {
     "data": {
      "text/plain": [
       "Order              0\n",
       "PID                0\n",
       "MS SubClass        0\n",
       "Lot Area           0\n",
       "Overall Qual       0\n",
       "Overall Cond       0\n",
       "Year Built         0\n",
       "Year Remod/Add     0\n",
       "Mas Vnr Area       0\n",
       "BsmtFin SF 1       0\n",
       "BsmtFin SF 2       0\n",
       "Bsmt Unf SF        0\n",
       "Total Bsmt SF      0\n",
       "1st Flr SF         0\n",
       "2nd Flr SF         0\n",
       "Low Qual Fin SF    0\n",
       "Gr Liv Area        0\n",
       "Bsmt Full Bath     0\n",
       "Bsmt Half Bath     0\n",
       "Full Bath          0\n",
       "Half Bath          0\n",
       "Bedroom AbvGr      0\n",
       "Kitchen AbvGr      0\n",
       "TotRms AbvGrd      0\n",
       "Fireplaces         0\n",
       "Garage Cars        0\n",
       "Garage Area        0\n",
       "Wood Deck SF       0\n",
       "Open Porch SF      0\n",
       "Enclosed Porch     0\n",
       "3Ssn Porch         0\n",
       "Screen Porch       0\n",
       "Pool Area          0\n",
       "Misc Val           0\n",
       "Mo Sold            0\n",
       "Yr Sold            0\n",
       "SalePrice          0\n",
       "dtype: int64"
      ]
     },
     "execution_count": 7,
     "metadata": {},
     "output_type": "execute_result"
    }
   ],
   "source": [
    "replacement_vals = df[fixable_cols.index].mode().to_dict(orient='records')[0]\n",
    "df = df.fillna(replacement_vals)\n",
    "df.select_dtypes(include=['int', 'float']).isnull().sum()"
   ]
  },
  {
   "cell_type": "code",
   "execution_count": 8,
   "metadata": {
    "collapsed": false
   },
   "outputs": [],
   "source": [
    "# remove all text cols with missing values from df\n",
    "text_null = df.select_dtypes(include=['object']).isnull().sum()\n",
    "drop_null = text_null[text_null > 0]\n",
    "df = df.drop(drop_null.index, axis=1)"
   ]
  },
  {
   "cell_type": "code",
   "execution_count": 9,
   "metadata": {
    "collapsed": false
   },
   "outputs": [
    {
     "data": {
      "text/plain": [
       "0    64\n",
       "dtype: int64"
      ]
     },
     "execution_count": 9,
     "metadata": {},
     "output_type": "execute_result"
    }
   ],
   "source": [
    "df.isnull().sum().value_counts()"
   ]
  },
  {
   "cell_type": "markdown",
   "metadata": {},
   "source": [
    "All null values are now gone from df\n",
    "\n",
    "Now lets work on adding new features, years_before_sold and years_since_remodel"
   ]
  },
  {
   "cell_type": "code",
   "execution_count": 10,
   "metadata": {
    "collapsed": false
   },
   "outputs": [
    {
     "name": "stdout",
     "output_type": "stream",
     "text": [
      "2180   -1\n",
      "dtype: int64\n",
      "1702   -1\n",
      "2180   -2\n",
      "2181   -1\n",
      "dtype: int64\n"
     ]
    }
   ],
   "source": [
    "years_sold = df['Yr Sold'] - df['Year Built']\n",
    "years_since_remodel = df['Yr Sold'] - df['Year Remod/Add']\n",
    "print(years_sold[years_sold < 0])\n",
    "print(years_since_remodel[years_since_remodel < 0])"
   ]
  },
  {
   "cell_type": "markdown",
   "metadata": {},
   "source": [
    "Rows 2180, 1702, and 2181 have negative years sold or years since remodel - drop"
   ]
  },
  {
   "cell_type": "code",
   "execution_count": 11,
   "metadata": {
    "collapsed": true
   },
   "outputs": [],
   "source": [
    "df['Years Before Sale'] = years_sold\n",
    "df['Years Since Remod'] = years_since_remodel\n",
    "\n",
    "df = df.drop([1702, 2180, 2181], axis=0)\n",
    "\n",
    "## No longer need original year columns\n",
    "df = df.drop([\"Year Built\", \"Year Remod/Add\"], axis = 1)"
   ]
  },
  {
   "cell_type": "markdown",
   "metadata": {},
   "source": [
    "Drop columns that:\n",
    "\n",
    "    aren't useful for ML (PID, Order)\n",
    "    Leak data about the final sale (Mo Sold, Sale Condition, Sale Type, Yr Sold)\n"
   ]
  },
  {
   "cell_type": "code",
   "execution_count": 12,
   "metadata": {
    "collapsed": true
   },
   "outputs": [],
   "source": [
    "df = df.drop(['PID', 'Order', 'Mo Sold', 'Sale Condition', 'Sale Type', 'Yr Sold'], axis=1)\n"
   ]
  },
  {
   "cell_type": "code",
   "execution_count": 13,
   "metadata": {
    "collapsed": false
   },
   "outputs": [
    {
     "name": "stdout",
     "output_type": "stream",
     "text": [
      "<class 'pandas.core.frame.DataFrame'>\n",
      "Int64Index: 2927 entries, 0 to 2929\n",
      "Data columns (total 58 columns):\n",
      "MS SubClass          2927 non-null int64\n",
      "MS Zoning            2927 non-null object\n",
      "Lot Area             2927 non-null int64\n",
      "Street               2927 non-null object\n",
      "Lot Shape            2927 non-null object\n",
      "Land Contour         2927 non-null object\n",
      "Utilities            2927 non-null object\n",
      "Lot Config           2927 non-null object\n",
      "Land Slope           2927 non-null object\n",
      "Neighborhood         2927 non-null object\n",
      "Condition 1          2927 non-null object\n",
      "Condition 2          2927 non-null object\n",
      "Bldg Type            2927 non-null object\n",
      "House Style          2927 non-null object\n",
      "Overall Qual         2927 non-null int64\n",
      "Overall Cond         2927 non-null int64\n",
      "Roof Style           2927 non-null object\n",
      "Roof Matl            2927 non-null object\n",
      "Exterior 1st         2927 non-null object\n",
      "Exterior 2nd         2927 non-null object\n",
      "Mas Vnr Area         2927 non-null float64\n",
      "Exter Qual           2927 non-null object\n",
      "Exter Cond           2927 non-null object\n",
      "Foundation           2927 non-null object\n",
      "BsmtFin SF 1         2927 non-null float64\n",
      "BsmtFin SF 2         2927 non-null float64\n",
      "Bsmt Unf SF          2927 non-null float64\n",
      "Total Bsmt SF        2927 non-null float64\n",
      "Heating              2927 non-null object\n",
      "Heating QC           2927 non-null object\n",
      "Central Air          2927 non-null object\n",
      "1st Flr SF           2927 non-null int64\n",
      "2nd Flr SF           2927 non-null int64\n",
      "Low Qual Fin SF      2927 non-null int64\n",
      "Gr Liv Area          2927 non-null int64\n",
      "Bsmt Full Bath       2927 non-null float64\n",
      "Bsmt Half Bath       2927 non-null float64\n",
      "Full Bath            2927 non-null int64\n",
      "Half Bath            2927 non-null int64\n",
      "Bedroom AbvGr        2927 non-null int64\n",
      "Kitchen AbvGr        2927 non-null int64\n",
      "Kitchen Qual         2927 non-null object\n",
      "TotRms AbvGrd        2927 non-null int64\n",
      "Functional           2927 non-null object\n",
      "Fireplaces           2927 non-null int64\n",
      "Garage Cars          2927 non-null float64\n",
      "Garage Area          2927 non-null float64\n",
      "Paved Drive          2927 non-null object\n",
      "Wood Deck SF         2927 non-null int64\n",
      "Open Porch SF        2927 non-null int64\n",
      "Enclosed Porch       2927 non-null int64\n",
      "3Ssn Porch           2927 non-null int64\n",
      "Screen Porch         2927 non-null int64\n",
      "Pool Area            2927 non-null int64\n",
      "Misc Val             2927 non-null int64\n",
      "SalePrice            2927 non-null int64\n",
      "Years Before Sale    2927 non-null int64\n",
      "Years Since Remod    2927 non-null int64\n",
      "dtypes: float64(9), int64(24), object(25)\n",
      "memory usage: 1.3+ MB\n"
     ]
    }
   ],
   "source": [
    "df.info()"
   ]
  },
  {
   "cell_type": "markdown",
   "metadata": {},
   "source": [
    "We are now ready to update the transform_features function"
   ]
  },
  {
   "cell_type": "code",
   "execution_count": 42,
   "metadata": {
    "collapsed": true
   },
   "outputs": [],
   "source": [
    "def transform_features(df1):\n",
    "    df = df1\n",
    "    \n",
    "    # Drop cols with > 5% missing values\n",
    "    num_missing = df.isnull().sum()\n",
    "    drop_missing = num_missing[num_missing > .05 * len(df)]\n",
    "    df = df.drop(drop_missing.index, axis=1)\n",
    "    \n",
    "    # Fill in numerical columns with mode of column\n",
    "    num_cols = df.select_dtypes(include=['int', 'float']).isnull().sum()\n",
    "    fixable_cols = num_cols[(num_cols < .05 * len(df)) & (num_cols > 0)]\n",
    "    replacement_vals = df[fixable_cols.index].mode().to_dict(orient='records')[0]\n",
    "    df = df.fillna(replacement_vals)\n",
    "    \n",
    "    # Drop cols with any missing text values\n",
    "    text_null = df.select_dtypes(include=['object']).isnull().sum()\n",
    "    drop_null = text_null[text_null > 0]\n",
    "    df = df.drop(drop_null.index, axis=1)\n",
    "    \n",
    "    # Add 'Years Before Sale' and 'Years Since Remodel'\n",
    "    years_sold = df['Yr Sold'] - df['Year Built']\n",
    "    years_since_remodel = df['Yr Sold'] - df['Year Remod/Add']\n",
    "    df['Years Before Sale'] = years_sold\n",
    "    df['Years Since Remodel'] = years_since_remodel\n",
    "\n",
    "    df = df.drop([1702, 2180, 2181], axis=0)\n",
    "\n",
    "    ## No longer need original year columns\n",
    "    df = df.drop([\"Year Built\", \"Year Remod/Add\"], axis = 1)\n",
    "    \n",
    "    # Drop columns that aren't useful for ML or would leak data about final sale\n",
    "    df = df.drop(['PID', 'Order', 'Mo Sold', 'Sale Condition', 'Sale Type', 'Yr Sold'], axis=1)\n",
    "    \n",
    "    return df"
   ]
  },
  {
   "cell_type": "markdown",
   "metadata": {},
   "source": [
    "Now that we've cleaned and transformed the features in the dataset, lets move on to feature selection for numerical features"
   ]
  },
  {
   "cell_type": "code",
   "execution_count": 15,
   "metadata": {
    "collapsed": false
   },
   "outputs": [
    {
     "data": {
      "text/plain": [
       "SalePrice            1.000000\n",
       "Overall Qual         0.801206\n",
       "Gr Liv Area          0.717596\n",
       "Garage Cars          0.648361\n",
       "Total Bsmt SF        0.644012\n",
       "Garage Area          0.641425\n",
       "1st Flr SF           0.635185\n",
       "Years Before Sale    0.558979\n",
       "Full Bath            0.546118\n",
       "Years Since Remod    0.534985\n",
       "Mas Vnr Area         0.506983\n",
       "TotRms AbvGrd        0.498574\n",
       "Fireplaces           0.474831\n",
       "BsmtFin SF 1         0.439284\n",
       "Wood Deck SF         0.328183\n",
       "Open Porch SF        0.316262\n",
       "Half Bath            0.284871\n",
       "Bsmt Full Bath       0.276258\n",
       "2nd Flr SF           0.269601\n",
       "Lot Area             0.267520\n",
       "Bsmt Unf SF          0.182751\n",
       "Bedroom AbvGr        0.143916\n",
       "Enclosed Porch       0.128685\n",
       "Kitchen AbvGr        0.119760\n",
       "Screen Porch         0.112280\n",
       "Overall Cond         0.101540\n",
       "MS SubClass          0.085128\n",
       "Pool Area            0.068438\n",
       "Low Qual Fin SF      0.037629\n",
       "Bsmt Half Bath       0.035875\n",
       "3Ssn Porch           0.032268\n",
       "Misc Val             0.019273\n",
       "BsmtFin SF 2         0.006127\n",
       "Name: SalePrice, dtype: float64"
      ]
     },
     "execution_count": 15,
     "metadata": {},
     "output_type": "execute_result"
    }
   ],
   "source": [
    "numerical = df.select_dtypes(include = ['int', 'float'])\n",
    "num_corr = numerical.corr()['SalePrice'].abs().sort_values(ascending=False)\n",
    "num_corr"
   ]
  },
  {
   "cell_type": "code",
   "execution_count": 16,
   "metadata": {
    "collapsed": false
   },
   "outputs": [
    {
     "data": {
      "text/plain": [
       "SalePrice            1.000000\n",
       "Overall Qual         0.801206\n",
       "Gr Liv Area          0.717596\n",
       "Garage Cars          0.648361\n",
       "Total Bsmt SF        0.644012\n",
       "Garage Area          0.641425\n",
       "1st Flr SF           0.635185\n",
       "Years Before Sale    0.558979\n",
       "Full Bath            0.546118\n",
       "Years Since Remod    0.534985\n",
       "Mas Vnr Area         0.506983\n",
       "TotRms AbvGrd        0.498574\n",
       "Fireplaces           0.474831\n",
       "BsmtFin SF 1         0.439284\n",
       "Name: SalePrice, dtype: float64"
      ]
     },
     "execution_count": 16,
     "metadata": {},
     "output_type": "execute_result"
    }
   ],
   "source": [
    "# Let's only keep values with a correlation coefficient > 0.4. \n",
    "# In the function, though, we will make the correlation coefficient an input\n",
    "num_corr[num_corr > .4]"
   ]
  },
  {
   "cell_type": "code",
   "execution_count": 17,
   "metadata": {
    "collapsed": true
   },
   "outputs": [],
   "source": [
    "# Only keep data with corr. coefficient > 0.4:\n",
    "df = df.drop(num_corr[num_corr < 0.4].index, axis=1)"
   ]
  },
  {
   "cell_type": "markdown",
   "metadata": {},
   "source": [
    "Now lets find columns that are categorical, and covert them to dummies"
   ]
  },
  {
   "cell_type": "code",
   "execution_count": 18,
   "metadata": {
    "collapsed": true
   },
   "outputs": [],
   "source": [
    "# Create a list of column names from documentation that are *meant* to be categorical\n",
    "cat_features = [\"PID\", \"MS SubClass\", \"MS Zoning\", \"Street\", \"Alley\", \"Land Contour\", \"Lot Config\", \"Neighborhood\", \n",
    "                    \"Condition 1\", \"Condition 2\", \"Bldg Type\", \"House Style\", \"Roof Style\", \"Roof Matl\", \"Exterior 1st\", \n",
    "                    \"Exterior 2nd\", \"Mas Vnr Type\", \"Foundation\", \"Heating\", \"Central Air\", \"Garage Type\", \n",
    "                    \"Misc Feature\", \"Sale Type\", \"Sale Condition\"]\n",
    "\n"
   ]
  },
  {
   "cell_type": "code",
   "execution_count": 19,
   "metadata": {
    "collapsed": false
   },
   "outputs": [],
   "source": [
    "# Which categorical columns have we not yet dropped?\n",
    "cat_cols = []\n",
    "for col in cat_features:\n",
    "    if col in df.columns:\n",
    "        cat_cols.append(col)\n",
    "        \n",
    "# How many unique values in each categorical column?\n",
    "unique_counts = df[cat_cols].apply(lambda col: len(col.value_counts()))\n",
    "# Cutoff at 10 unique counts, include as arguement to function\n",
    "drop_nonunique_cols = unique_counts[unique_counts > 10].index\n",
    "df = df.drop(drop_nonunique_cols, axis=1)"
   ]
  },
  {
   "cell_type": "code",
   "execution_count": 20,
   "metadata": {
    "collapsed": false
   },
   "outputs": [],
   "source": [
    "# Select remaining text columns and convert to categorical\n",
    "text_cols = df.select_dtypes(include=['object'])\n",
    "for col in text_cols:\n",
    "    df[col] = df[col].astype('category')\n",
    "    \n",
    "# Create dummy columns & drop previous text cols\n",
    "df = pd.concat([df, pd.get_dummies(df.select_dtypes(include=['category']))], axis=1).drop(text_cols, axis=1)"
   ]
  },
  {
   "cell_type": "markdown",
   "metadata": {},
   "source": [
    "Update 'select_features' function"
   ]
  },
  {
   "cell_type": "code",
   "execution_count": 43,
   "metadata": {
    "collapsed": true
   },
   "outputs": [],
   "source": [
    "def select_features(df1, corr_coef = 0.4, unique_threshold = 10):    \n",
    "    # first, transform the features using transform_features\n",
    "    df = transform_features(df1)\n",
    "    \n",
    "    # Select only numerical types and generate correlation coefficients\n",
    "    numerical = df.select_dtypes(include = ['int', 'float'])\n",
    "    num_corr = numerical.corr()['SalePrice'].abs().sort_values(ascending=False)\n",
    "    \n",
    "    # Only keep data with corr. coefficient > corr_coef:\n",
    "    df = df.drop(num_corr[num_corr < corr_coef].index, axis=1)\n",
    "\n",
    "    # Create a list of column names from documentation that are *meant* to be categorical\n",
    "    cat_features = [\"PID\", \"MS SubClass\", \"MS Zoning\", \"Street\", \"Alley\", \"Land Contour\", \"Lot Config\", \"Neighborhood\", \n",
    "                    \"Condition 1\", \"Condition 2\", \"Bldg Type\", \"House Style\", \"Roof Style\", \"Roof Matl\", \"Exterior 1st\", \n",
    "                    \"Exterior 2nd\", \"Mas Vnr Type\", \"Foundation\", \"Heating\", \"Central Air\", \"Garage Type\", \n",
    "                    \"Misc Feature\", \"Sale Type\", \"Sale Condition\"]\n",
    "    \n",
    "    # Which categorical columns have we not yet dropped?\n",
    "    cat_cols = []\n",
    "    for col in cat_features:\n",
    "        if col in df.columns:\n",
    "            cat_cols.append(col)\n",
    "\n",
    "    # How many unique values in each categorical column?\n",
    "    unique_counts = df[cat_cols].apply(lambda col: len(col.value_counts()))\n",
    "    # Cutoff at unique_threshold\n",
    "    drop_nonunique_cols = unique_counts[unique_counts > unique_threshold].index\n",
    "    df = df.drop(drop_nonunique_cols, axis=1)\n",
    "    \n",
    "    # Select remaining text columns and convert to categorical\n",
    "    text_cols = df.select_dtypes(include=['object'])\n",
    "    for col in text_cols:\n",
    "        df[col] = df[col].astype('category')\n",
    "\n",
    "    # Create dummy columns & drop previous text cols\n",
    "    df = pd.concat([df, pd.get_dummies(df.select_dtypes(include=['category']))], axis=1).drop(text_cols, axis=1)\n",
    "    \n",
    "    return df"
   ]
  },
  {
   "cell_type": "markdown",
   "metadata": {},
   "source": [
    "Now lets update the train_and_test function.\n",
    "\n",
    "We will add a paramater k that controls the type of cross validation that occurs.\n",
    "- When k == 0, perform holdout validation (what we already have implemented\n",
    "    - Select first 1460 rows and assign to train, assign rest to test\n",
    "    - Train on train, test on test\n",
    "    - Return RMSE\n",
    "- When k == 1, perform simple cross validation\n",
    "    - Shuffle ordering of rows in df\n",
    "    - Select first 1460 rows and assign to fold_one, assign remaining to fold_two\n",
    "    - Train on fold_one and test on fold_two\n",
    "    - Train on fold_two and test on fold_one\n",
    "    - Return average RMSE\n",
    "- Else, implement k-fold cross validation using k folds\n",
    "    - Perform k-fold cross validation using k folds\n",
    "    - Return average RMSE\n",
    "    - *Should be the same as simple cross validation when k = 1, but this shows that I understand the concepts"
   ]
  },
  {
   "cell_type": "code",
   "execution_count": 44,
   "metadata": {
    "collapsed": true
   },
   "outputs": [],
   "source": [
    "from sklearn.model_selection import KFold\n",
    "\n",
    "def train_and_test(df1, k = 0, corr_coef = 0.4, unique_threshold = 10):\n",
    "    df = select_features(df1, corr_coef, unique_threshold)\n",
    "    numeric = df.select_dtypes(include=['int', 'float'])\n",
    "    features = numeric.columns.drop('SalePrice')\n",
    "    lr = LinearRegression()\n",
    "    \n",
    "    if k == 0:\n",
    "        \n",
    "        # Set first 1460 rows to train, set remaining rows to test\n",
    "        train = df[0:1460]\n",
    "        test = df[1460:]\n",
    "\n",
    "        # Train a model using selected features\n",
    "        lr.fit(train[features], train['SalePrice'])\n",
    "        \n",
    "        # Test model on test data\n",
    "        predictions = lr.predict(test[features])\n",
    "        \n",
    "        # Return root mean squared error from test\n",
    "        rmse = mean_squared_error(predictions, test['SalePrice'])**(1/2)\n",
    "        return rmse\n",
    "    \n",
    "    \n",
    "    elif k == 1:\n",
    "        shuffled = df.sample(frac=1)\n",
    "        fold_one = df[0:1460]\n",
    "        fold_two = df[1460:]\n",
    "        \n",
    "        # Train on fold_one and test on fold_two\n",
    "        lr.fit(fold_one[features], fold_one['SalePrice'])\n",
    "        predict_two = lr.predict(fold_two[features])\n",
    "        rmse_two = mean_squared_error(predict_two, fold_two['SalePrice'])**(1/2)\n",
    "        \n",
    "        # Train on fold_two and test on fold_one\n",
    "        lr.fit(fold_two[features], fold_two['SalePrice'])\n",
    "        predict_one = lr.predict(fold_one[features])\n",
    "        rmse_one = mean_squared_error(predict_one, fold_one['SalePrice'])**(1/2)\n",
    "        \n",
    "        # Return average RMSE\n",
    "        avg_rmse = (rmse_one + rmse_two) / 2\n",
    "        return avg_rmse\n",
    "        \n",
    "    else:\n",
    "        kf = KFold(n_splits=k, shuffle=True)\n",
    "        rmses = []\n",
    "        for train_index, test_index, in kf.split(df):\n",
    "            train = df.iloc[train_index]\n",
    "            test = df.iloc[test_index]\n",
    "            lr.fit(train[features], train[\"SalePrice\"])\n",
    "            predictions = lr.predict(test[features])\n",
    "            rmse = mean_squared_error(test[\"SalePrice\"], predictions)**(1/2)\n",
    "            rmses.append(rmse)\n",
    "        avg_rmse = np.mean(rmses)\n",
    "        return avg_rmse\n",
    "        \n",
    "        "
   ]
  },
  {
   "cell_type": "code",
   "execution_count": 45,
   "metadata": {
    "collapsed": false
   },
   "outputs": [
    {
     "data": {
      "text/plain": [
       "36623.53562910476"
      ]
     },
     "execution_count": 45,
     "metadata": {},
     "output_type": "execute_result"
    }
   ],
   "source": [
    "train_and_test(houses)"
   ]
  },
  {
   "cell_type": "code",
   "execution_count": 47,
   "metadata": {
    "collapsed": false
   },
   "outputs": [
    {
     "name": "stdout",
     "output_type": "stream",
     "text": [
      "Min RMSE:  30943.69301164943\n",
      "k:  8 \n",
      "Correlation coefficient:  0 \n",
      "Unique Threshold:  45\n"
     ]
    }
   ],
   "source": [
    "min_rmse = 100000\n",
    "k=0\n",
    "corr_coef = 0\n",
    "unique_threshold = 0\n",
    "\n",
    "for k_ in range(0,10):\n",
    "    rmse_c = []\n",
    "    for corr in range(0, 8):\n",
    "        rmse_c_u = []\n",
    "        for ut in range(5, 51, 5):\n",
    "            rmse = train_and_test(houses, k_, corr/10, ut)\n",
    "            if rmse < min_rmse:\n",
    "                min_rmse = rmse\n",
    "                k = k_\n",
    "                corr_coef = corr\n",
    "                unique_threshold = ut\n",
    "\n",
    "print('Min RMSE: ', min_rmse)\n",
    "print('k: ', k, '\\nCorrelation coefficient: ', corr_coef, '\\nUnique Threshold: ', unique_threshold)"
   ]
  },
  {
   "cell_type": "markdown",
   "metadata": {},
   "source": [
    "The code above takes quite a while to run, however I obtained the following values:\n",
    "- Min RMSE:  30943.69301164943\n",
    "- k:  8 \n",
    "- Correlation coefficient:  0 \n",
    "- Unique Threshold:  45\n",
    "\n",
    "At best, the computer predicted the accuracy of the houses within approx. $30,944. \n",
    "\n",
    "The best approximation comes from using 8 folds, including all values regardles of how well they are correlated, and including all columns with less than 45 individual values."
   ]
  },
  {
   "cell_type": "code",
   "execution_count": null,
   "metadata": {
    "collapsed": true
   },
   "outputs": [],
   "source": []
  }
 ],
 "metadata": {
  "anaconda-cloud": {},
  "kernelspec": {
   "display_name": "Python 3",
   "language": "python",
   "name": "python3"
  },
  "language_info": {
   "codemirror_mode": {
    "name": "ipython",
    "version": 3
   },
   "file_extension": ".py",
   "mimetype": "text/x-python",
   "name": "python",
   "nbconvert_exporter": "python",
   "pygments_lexer": "ipython3",
   "version": "3.4.3"
  }
 },
 "nbformat": 4,
 "nbformat_minor": 2
}
