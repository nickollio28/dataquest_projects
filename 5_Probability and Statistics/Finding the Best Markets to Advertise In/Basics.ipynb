{
 "cells": [
  {
   "cell_type": "markdown",
   "metadata": {},
   "source": [
    "# Finding the Best Markets to Advertise In\n",
    "\n",
    "I will pretend I am working for an e-learning company that offers courses in programming. Most of the courses are on web and mobile development, but there are also courses in domains such as data science, game development, etc. The company wants to promote their product and invest money in advertising. The goal of this project is to find the best two markets to advertise the product in.\n",
    "\n",
    "To reach our goal, we will use data from [freeCodeCamp's 2017 New Coder Survey](https://medium.freecodecamp.org/we-asked-20-000-people-who-they-are-and-how-theyre-learning-to-code-fff5d668969), which is publicly available in [this GitHub repository](https://github.com/freeCodeCamp/2017-new-coder-survey)."
   ]
  },
  {
   "cell_type": "code",
   "execution_count": 110,
   "metadata": {
    "collapsed": false
   },
   "outputs": [
    {
     "name": "stderr",
     "output_type": "stream",
     "text": [
      "/dataquest/system/env/python3/lib/python3.4/site-packages/IPython/core/interactiveshell.py:2723: DtypeWarning:\n",
      "\n",
      "Columns (17,62) have mixed types. Specify dtype option on import or set low_memory=False.\n",
      "\n"
     ]
    },
    {
     "data": {
      "text/html": [
       "<div>\n",
       "<style scoped>\n",
       "    .dataframe tbody tr th:only-of-type {\n",
       "        vertical-align: middle;\n",
       "    }\n",
       "\n",
       "    .dataframe tbody tr th {\n",
       "        vertical-align: top;\n",
       "    }\n",
       "\n",
       "    .dataframe thead th {\n",
       "        text-align: right;\n",
       "    }\n",
       "</style>\n",
       "<table border=\"1\" class=\"dataframe\">\n",
       "  <thead>\n",
       "    <tr style=\"text-align: right;\">\n",
       "      <th></th>\n",
       "      <th>Age</th>\n",
       "      <th>AttendedBootcamp</th>\n",
       "      <th>BootcampFinish</th>\n",
       "      <th>BootcampLoanYesNo</th>\n",
       "      <th>BootcampName</th>\n",
       "      <th>BootcampRecommend</th>\n",
       "      <th>ChildrenNumber</th>\n",
       "      <th>CityPopulation</th>\n",
       "      <th>CodeEventConferences</th>\n",
       "      <th>CodeEventDjangoGirls</th>\n",
       "      <th>...</th>\n",
       "      <th>YouTubeFCC</th>\n",
       "      <th>YouTubeFunFunFunction</th>\n",
       "      <th>YouTubeGoogleDev</th>\n",
       "      <th>YouTubeLearnCode</th>\n",
       "      <th>YouTubeLevelUpTuts</th>\n",
       "      <th>YouTubeMIT</th>\n",
       "      <th>YouTubeMozillaHacks</th>\n",
       "      <th>YouTubeOther</th>\n",
       "      <th>YouTubeSimplilearn</th>\n",
       "      <th>YouTubeTheNewBoston</th>\n",
       "    </tr>\n",
       "  </thead>\n",
       "  <tbody>\n",
       "    <tr>\n",
       "      <th>0</th>\n",
       "      <td>27.0</td>\n",
       "      <td>0.0</td>\n",
       "      <td>NaN</td>\n",
       "      <td>NaN</td>\n",
       "      <td>NaN</td>\n",
       "      <td>NaN</td>\n",
       "      <td>NaN</td>\n",
       "      <td>more than 1 million</td>\n",
       "      <td>NaN</td>\n",
       "      <td>NaN</td>\n",
       "      <td>...</td>\n",
       "      <td>NaN</td>\n",
       "      <td>NaN</td>\n",
       "      <td>NaN</td>\n",
       "      <td>NaN</td>\n",
       "      <td>NaN</td>\n",
       "      <td>NaN</td>\n",
       "      <td>NaN</td>\n",
       "      <td>NaN</td>\n",
       "      <td>NaN</td>\n",
       "      <td>NaN</td>\n",
       "    </tr>\n",
       "    <tr>\n",
       "      <th>1</th>\n",
       "      <td>34.0</td>\n",
       "      <td>0.0</td>\n",
       "      <td>NaN</td>\n",
       "      <td>NaN</td>\n",
       "      <td>NaN</td>\n",
       "      <td>NaN</td>\n",
       "      <td>NaN</td>\n",
       "      <td>less than 100,000</td>\n",
       "      <td>NaN</td>\n",
       "      <td>NaN</td>\n",
       "      <td>...</td>\n",
       "      <td>1.0</td>\n",
       "      <td>NaN</td>\n",
       "      <td>NaN</td>\n",
       "      <td>NaN</td>\n",
       "      <td>NaN</td>\n",
       "      <td>NaN</td>\n",
       "      <td>NaN</td>\n",
       "      <td>NaN</td>\n",
       "      <td>NaN</td>\n",
       "      <td>NaN</td>\n",
       "    </tr>\n",
       "    <tr>\n",
       "      <th>2</th>\n",
       "      <td>21.0</td>\n",
       "      <td>0.0</td>\n",
       "      <td>NaN</td>\n",
       "      <td>NaN</td>\n",
       "      <td>NaN</td>\n",
       "      <td>NaN</td>\n",
       "      <td>NaN</td>\n",
       "      <td>more than 1 million</td>\n",
       "      <td>NaN</td>\n",
       "      <td>NaN</td>\n",
       "      <td>...</td>\n",
       "      <td>NaN</td>\n",
       "      <td>NaN</td>\n",
       "      <td>NaN</td>\n",
       "      <td>1.0</td>\n",
       "      <td>1.0</td>\n",
       "      <td>NaN</td>\n",
       "      <td>NaN</td>\n",
       "      <td>NaN</td>\n",
       "      <td>NaN</td>\n",
       "      <td>NaN</td>\n",
       "    </tr>\n",
       "    <tr>\n",
       "      <th>3</th>\n",
       "      <td>26.0</td>\n",
       "      <td>0.0</td>\n",
       "      <td>NaN</td>\n",
       "      <td>NaN</td>\n",
       "      <td>NaN</td>\n",
       "      <td>NaN</td>\n",
       "      <td>NaN</td>\n",
       "      <td>between 100,000 and 1 million</td>\n",
       "      <td>NaN</td>\n",
       "      <td>NaN</td>\n",
       "      <td>...</td>\n",
       "      <td>1.0</td>\n",
       "      <td>1.0</td>\n",
       "      <td>NaN</td>\n",
       "      <td>NaN</td>\n",
       "      <td>1.0</td>\n",
       "      <td>NaN</td>\n",
       "      <td>NaN</td>\n",
       "      <td>NaN</td>\n",
       "      <td>NaN</td>\n",
       "      <td>NaN</td>\n",
       "    </tr>\n",
       "    <tr>\n",
       "      <th>4</th>\n",
       "      <td>20.0</td>\n",
       "      <td>0.0</td>\n",
       "      <td>NaN</td>\n",
       "      <td>NaN</td>\n",
       "      <td>NaN</td>\n",
       "      <td>NaN</td>\n",
       "      <td>NaN</td>\n",
       "      <td>between 100,000 and 1 million</td>\n",
       "      <td>NaN</td>\n",
       "      <td>NaN</td>\n",
       "      <td>...</td>\n",
       "      <td>NaN</td>\n",
       "      <td>NaN</td>\n",
       "      <td>NaN</td>\n",
       "      <td>NaN</td>\n",
       "      <td>NaN</td>\n",
       "      <td>NaN</td>\n",
       "      <td>NaN</td>\n",
       "      <td>NaN</td>\n",
       "      <td>NaN</td>\n",
       "      <td>NaN</td>\n",
       "    </tr>\n",
       "  </tbody>\n",
       "</table>\n",
       "<p>5 rows × 136 columns</p>\n",
       "</div>"
      ],
      "text/plain": [
       "    Age  AttendedBootcamp  BootcampFinish  BootcampLoanYesNo BootcampName  \\\n",
       "0  27.0               0.0             NaN                NaN          NaN   \n",
       "1  34.0               0.0             NaN                NaN          NaN   \n",
       "2  21.0               0.0             NaN                NaN          NaN   \n",
       "3  26.0               0.0             NaN                NaN          NaN   \n",
       "4  20.0               0.0             NaN                NaN          NaN   \n",
       "\n",
       "   BootcampRecommend  ChildrenNumber                 CityPopulation  \\\n",
       "0                NaN             NaN            more than 1 million   \n",
       "1                NaN             NaN              less than 100,000   \n",
       "2                NaN             NaN            more than 1 million   \n",
       "3                NaN             NaN  between 100,000 and 1 million   \n",
       "4                NaN             NaN  between 100,000 and 1 million   \n",
       "\n",
       "   CodeEventConferences  CodeEventDjangoGirls         ...           \\\n",
       "0                   NaN                   NaN         ...            \n",
       "1                   NaN                   NaN         ...            \n",
       "2                   NaN                   NaN         ...            \n",
       "3                   NaN                   NaN         ...            \n",
       "4                   NaN                   NaN         ...            \n",
       "\n",
       "   YouTubeFCC  YouTubeFunFunFunction  YouTubeGoogleDev  YouTubeLearnCode  \\\n",
       "0         NaN                    NaN               NaN               NaN   \n",
       "1         1.0                    NaN               NaN               NaN   \n",
       "2         NaN                    NaN               NaN               1.0   \n",
       "3         1.0                    1.0               NaN               NaN   \n",
       "4         NaN                    NaN               NaN               NaN   \n",
       "\n",
       "   YouTubeLevelUpTuts  YouTubeMIT  YouTubeMozillaHacks YouTubeOther  \\\n",
       "0                 NaN         NaN                  NaN          NaN   \n",
       "1                 NaN         NaN                  NaN          NaN   \n",
       "2                 1.0         NaN                  NaN          NaN   \n",
       "3                 1.0         NaN                  NaN          NaN   \n",
       "4                 NaN         NaN                  NaN          NaN   \n",
       "\n",
       "   YouTubeSimplilearn  YouTubeTheNewBoston  \n",
       "0                 NaN                  NaN  \n",
       "1                 NaN                  NaN  \n",
       "2                 NaN                  NaN  \n",
       "3                 NaN                  NaN  \n",
       "4                 NaN                  NaN  \n",
       "\n",
       "[5 rows x 136 columns]"
      ]
     },
     "execution_count": 110,
     "metadata": {},
     "output_type": "execute_result"
    }
   ],
   "source": [
    "import pandas as pd\n",
    "survey = pd.read_csv('2017-fCC-New-Coders-Survey-Data.csv')\n",
    "survey.head()"
   ]
  },
  {
   "cell_type": "code",
   "execution_count": 111,
   "metadata": {
    "collapsed": false
   },
   "outputs": [
    {
     "data": {
      "text/plain": [
       "(18175, 136)"
      ]
     },
     "execution_count": 111,
     "metadata": {},
     "output_type": "execute_result"
    }
   ],
   "source": [
    "survey.shape"
   ]
  },
  {
   "cell_type": "markdown",
   "metadata": {},
   "source": [
    "For the purpose of our analysis, we want to answer questions about a population of new coders that are interested in the subjects we teach. We'd like to know:\n",
    "- Where are these new coders located.\n",
    "- What locations have the greatest densities of new coders.\n",
    "- How much money they're willing to spend on learning.\n",
    "\n",
    "So first we need to clarify whether the data set has the right categories of people for our purpose. The JobRoleInterest column describes the role(s) each participant is interested in working in. So I will analyze the JobRoleInterest frequency distribution table."
   ]
  },
  {
   "cell_type": "code",
   "execution_count": 112,
   "metadata": {
    "collapsed": false
   },
   "outputs": [
    {
     "data": {
      "text/plain": [
       "Full-Stack Web Developer                                                                                                                                                                                                    823\n",
       "  Front-End Web Developer                                                                                                                                                                                                   450\n",
       "  Data Scientist                                                                                                                                                                                                            152\n",
       "Back-End Web Developer                                                                                                                                                                                                      142\n",
       "  Mobile Developer                                                                                                                                                                                                          117\n",
       "Game Developer                                                                                                                                                                                                              114\n",
       "Information Security                                                                                                                                                                                                         92\n",
       "Full-Stack Web Developer,   Front-End Web Developer                                                                                                                                                                          64\n",
       "  Front-End Web Developer, Full-Stack Web Developer                                                                                                                                                                          56\n",
       "  Product Manager                                                                                                                                                                                                            55\n",
       "Data Engineer                                                                                                                                                                                                                53\n",
       "  User Experience Designer                                                                                                                                                                                                   52\n",
       "  User Experience Designer,   Front-End Web Developer                                                                                                                                                                        43\n",
       "  Front-End Web Developer, Back-End Web Developer, Full-Stack Web Developer                                                                                                                                                  39\n",
       "Back-End Web Developer, Full-Stack Web Developer,   Front-End Web Developer                                                                                                                                                  36\n",
       "  DevOps / SysAdmin                                                                                                                                                                                                          36\n",
       "Back-End Web Developer,   Front-End Web Developer, Full-Stack Web Developer                                                                                                                                                  36\n",
       "Full-Stack Web Developer,   Front-End Web Developer, Back-End Web Developer                                                                                                                                                  31\n",
       "  Front-End Web Developer, Full-Stack Web Developer, Back-End Web Developer                                                                                                                                                  30\n",
       "Full-Stack Web Developer,   Mobile Developer                                                                                                                                                                                 29\n",
       "  Front-End Web Developer,   User Experience Designer                                                                                                                                                                        29\n",
       "Back-End Web Developer, Full-Stack Web Developer                                                                                                                                                                             27\n",
       "Full-Stack Web Developer, Back-End Web Developer                                                                                                                                                                             26\n",
       "Back-End Web Developer,   Front-End Web Developer                                                                                                                                                                            20\n",
       "Data Engineer,   Data Scientist                                                                                                                                                                                              19\n",
       "Full-Stack Web Developer, Back-End Web Developer,   Front-End Web Developer                                                                                                                                                  19\n",
       "  Front-End Web Developer,   Mobile Developer                                                                                                                                                                                18\n",
       "Full-Stack Web Developer,   Data Scientist                                                                                                                                                                                   17\n",
       "  Mobile Developer, Game Developer                                                                                                                                                                                           16\n",
       "  Data Scientist, Data Engineer                                                                                                                                                                                              16\n",
       "                                                                                                                                                                                                                           ... \n",
       "Game Developer,   Mobile Developer, Information Security,   User Experience Designer                                                                                                                                          1\n",
       "  Front-End Web Developer, Back-End Web Developer,   DevOps / SysAdmin, Full-Stack Web Developer,   Mobile Developer,   User Experience Designer,   Data Scientist                                                            1\n",
       "Full-Stack Web Developer, Back-End Web Developer, Data Engineer,   Quality Assurance Engineer,   Data Scientist                                                                                                               1\n",
       "Game Developer,   User Experience Designer,   Front-End Web Developer, Full-Stack Web Developer                                                                                                                               1\n",
       "Full-Stack Web Developer, Information Security,   Mobile Developer                                                                                                                                                            1\n",
       "Back-End Web Developer, Data Engineer,   DevOps / SysAdmin,   Quality Assurance Engineer,   Product Manager,   Front-End Web Developer, Game Developer, Information Security,   Data Scientist, Full-Stack Web Developer      1\n",
       "  Front-End Web Developer, Game Developer,   User Experience Designer,   Data Scientist, Full-Stack Web Developer                                                                                                             1\n",
       "  Front-End Web Developer, Full-Stack Web Developer, Information Security,   Data Scientist, Back-End Web Developer, Game Developer                                                                                           1\n",
       "Full-Stack Web Developer, Data Engineer, Information Security,   Data Scientist, Game Developer,   DevOps / SysAdmin                                                                                                          1\n",
       "  Data Scientist,   Front-End Web Developer, Game Developer                                                                                                                                                                   1\n",
       "Full-Stack Web Developer,   Data Scientist, Information Security,   Mobile Developer, Data Engineer,   Quality Assurance Engineer, Game Developer                                                                             1\n",
       "  Front-End Web Developer, Back-End Web Developer, Full-Stack Web Developer,   User Experience Designer,   Mobile Developer, Game Developer                                                                                   1\n",
       "  Mobile Developer, Information Security, Full-Stack Web Developer, Back-End Web Developer                                                                                                                                    1\n",
       "Information Security,   DevOps / SysAdmin, Full-Stack Web Developer,   Mobile Developer, Back-End Web Developer, Data Engineer                                                                                                1\n",
       "Full-Stack Web Developer,   Product Manager,   Mobile Developer, Information Security                                                                                                                                         1\n",
       "  Quality Assurance Engineer,   Front-End Web Developer,   User Experience Designer, Full-Stack Web Developer, Information Security                                                                                           1\n",
       "  Quality Assurance Engineer,   DevOps / SysAdmin,   Data Scientist                                                                                                                                                           1\n",
       "  User Experience Designer, Back-End Web Developer, Game Developer, Full-Stack Web Developer,   Front-End Web Developer                                                                                                       1\n",
       "Back-End Web Developer,   Front-End Web Developer,   Product Manager, Full-Stack Web Developer,   DevOps / SysAdmin, Data Engineer,   Mobile Developer,   Data Scientist, Information Security                                1\n",
       "  Mobile Developer, Full-Stack Web Developer, Information Security,   Front-End Web Developer,   DevOps / SysAdmin, Back-End Web Developer,   Quality Assurance Engineer                                                      1\n",
       "  Front-End Web Developer, Full-Stack Web Developer,   Product Manager,   User Experience Designer,   DevOps / SysAdmin                                                                                                       1\n",
       "  DevOps / SysAdmin,   Front-End Web Developer,   Data Scientist, Full-Stack Web Developer, Information Security, Data Engineer, Back-End Web Developer                                                                       1\n",
       "Game Developer,   User Experience Designer,   Front-End Web Developer,   Mobile Developer, Full-Stack Web Developer                                                                                                           1\n",
       "Game Developer, Back-End Web Developer,   Front-End Web Developer,   Data Scientist, Data Engineer                                                                                                                            1\n",
       "  Data Scientist, Full-Stack Web Developer, Information Security, Data Engineer, Back-End Web Developer                                                                                                                       1\n",
       "Back-End Web Developer, Full-Stack Web Developer,   Product Manager, Data Engineer,   Front-End Web Developer                                                                                                                 1\n",
       "  Front-End Web Developer, Back-End Web Developer,   Mobile Developer, Full-Stack Web Developer,   DevOps / SysAdmin                                                                                                          1\n",
       "  Data Scientist,   User Experience Designer,   Quality Assurance Engineer, Full-Stack Web Developer,   DevOps / SysAdmin,   Mobile Developer, Information Security                                                           1\n",
       "  Front-End Web Developer,   User Experience Designer, Data Engineer,   Mobile Developer,   Data Scientist,   Quality Assurance Engineer, Game Developer                                                                      1\n",
       "  Quality Assurance Engineer,   Data Scientist,   User Experience Designer, Back-End Web Developer, Data Engineer                                                                                                             1\n",
       "Name: JobRoleInterest, Length: 3213, dtype: int64"
      ]
     },
     "execution_count": 112,
     "metadata": {},
     "output_type": "execute_result"
    }
   ],
   "source": [
    "survey['JobRoleInterest'].value_counts()"
   ]
  },
  {
   "cell_type": "markdown",
   "metadata": {},
   "source": [
    "\n",
    "\n",
    "From a quick scan, we can tell:\n",
    "- A lot of people are interested in web development\n",
    "- A few people are interested in mobile development.\n",
    "- A few people are interested in other domains.\n",
    "\n",
    "Many respondants also answered more than one domain. In this next code block, I will split the different domains and determine the relative number of people interested in one, two, ... domains."
   ]
  },
  {
   "cell_type": "code",
   "execution_count": 113,
   "metadata": {
    "collapsed": false
   },
   "outputs": [
    {
     "data": {
      "text/plain": [
       "1     31.650458\n",
       "2     10.883867\n",
       "3     15.889588\n",
       "4     15.217391\n",
       "5     12.042334\n",
       "6      6.721968\n",
       "7      3.861556\n",
       "8      1.759153\n",
       "9      0.986842\n",
       "10     0.471968\n",
       "11     0.185927\n",
       "12     0.300343\n",
       "13     0.028604\n",
       "Name: JobRoleInterest, dtype: float64"
      ]
     },
     "execution_count": 113,
     "metadata": {},
     "output_type": "execute_result"
    }
   ],
   "source": [
    "interest_no_nulls = survey['JobRoleInterest'].dropna()\n",
    "interest_splitted = interest_no_nulls.str.replace(' ', '').str.split(',')\n",
    "num_interests = interest_splitted.apply(lambda x: len(x))\n",
    "num_interests.value_counts(normalize=True).sort_index() * 100"
   ]
  },
  {
   "cell_type": "markdown",
   "metadata": {},
   "source": [
    "Only 31.7% of respondants are interested in one particular domain, while the vast majority of respondants have mixed interests. The focus of our courses is on web and mobile development, so I will find out how many respondents chose at least one of these two options."
   ]
  },
  {
   "cell_type": "code",
   "execution_count": 114,
   "metadata": {
    "collapsed": false
   },
   "outputs": [
    {
     "name": "stdout",
     "output_type": "stream",
     "text": [
      "True     86.241419\n",
      "False    13.758581\n",
      "Name: JobRoleInterest, dtype: float64\n"
     ]
    },
    {
     "data": {
      "image/png": "[encoded data removed]",
      "text/plain": [
       "<matplotlib.figure.Figure at 0x7fe6ff7d42e8>"
      ]
     },
     "metadata": {},
     "output_type": "display_data"
    }
   ],
   "source": [
    "web_mobile = interest_no_nulls.str.contains('Web Developer|Mobile Developer')\n",
    "freq_table = web_mobile.value_counts(normalize=True) * 100\n",
    "print(freq_table)\n",
    "\n",
    "\n",
    "import matplotlib.pyplot as plt\n",
    "%matplotlib inline\n",
    "\n",
    "freq_table.plot.bar()\n",
    "plt.title('Participants Interested in \\nWeb or Mobile Development')\n",
    "plt.xticks([0,1],['Web or mobile\\ndevelopment', 'Other subject'], rotation=0) \n",
    "plt.ylabel('Percentage')\n",
    "plt.ylim([0,100])\n",
    "plt.show()\n",
    "\n"
   ]
  },
  {
   "cell_type": "markdown",
   "metadata": {},
   "source": [
    "86% of respondants are interested in web or mobile development. Because we want to advertise our services to people interested in mainly web and mobile development but also other domains, this sample should be representative of our population of interest.\n",
    "\n",
    "## Analysis\n",
    "\n",
    "We will start with finding where these new coders are located, and what are the densities for each location. We will use the CountryLive variable to find out where the coders live. Because the dataset provides location information at a country level, we can think of each country as an individual market, and frame our goal as finding the two best countries to advertise in. These will be the two countries with the highest number of potential customers."
   ]
  },
  {
   "cell_type": "code",
   "execution_count": 115,
   "metadata": {
    "collapsed": false
   },
   "outputs": [
    {
     "name": "stdout",
     "output_type": "stream",
     "text": [
      "Absolute frequency table:\n",
      " United States of America    5791\n",
      "India                       1400\n",
      "United Kingdom               757\n",
      "Canada                       616\n",
      "Brazil                       364\n",
      "Germany                      324\n",
      "Poland                       265\n",
      "Russia                       263\n",
      "Australia                    259\n",
      "France                       228\n",
      "Name: CountryLive, dtype: int64\n",
      "Relative frequency table:\n",
      " United States of America    37.760824\n",
      "India                        9.128847\n",
      "United Kingdom               4.936098\n",
      "Canada                       4.016693\n",
      "Brazil                       2.373500\n",
      "Germany                      2.112676\n",
      "Poland                       1.727960\n",
      "Russia                       1.714919\n",
      "Australia                    1.688837\n",
      "France                       1.486698\n",
      "Name: CountryLive, dtype: float64\n"
     ]
    }
   ],
   "source": [
    "country_freq_abs = survey['CountryLive'].value_counts()\n",
    "country_freq_rel = survey['CountryLive'].value_counts(normalize=True) * 100\n",
    "\n",
    "print('Absolute frequency table:\\n', country_freq_abs.head(10))\n",
    "print('Relative frequency table:\\n', country_freq_rel.head(10))"
   ]
  },
  {
   "cell_type": "markdown",
   "metadata": {},
   "source": [
    "The 5791, or 37.8%, of the respondants are from the United States. 1400, or 9.12% of the respondants are from India. All of the other countries comprise < 5% of the respondants. The two countries with the highest number of potential customers are the USA and India.\n",
    "\n",
    "We can continue by figuring out how much money new coders are actually willing to spend on learning. Advertising in markets where most people are only willing to learn for free is extremely unlikely to be profitable for us.\n",
    "\n",
    "The MoneyForLearning column describes in USD the amount of money spent by participants from the moment they started coding until the moment they completed the survey. Our company sells subscriptions at a price of $59 per month, and for this reason we're interested in finding out how much money each student spends per month.\n",
    "\n",
    "It also seems like a good idea to narrow down our analysis to only four countries: the US, India, the United Kingdom, and Canada. Two reasons for this decision are:\n",
    "\n",
    "- These are the countries having the highest absolute frequencies in our sample, which means we have a decent amount of data for each.\n",
    "- Our courses are written in English, and English is an official language in all these four countries. The more people that know English, the better our chances to target the right people with our ads."
   ]
  },
  {
   "cell_type": "code",
   "execution_count": 116,
   "metadata": {
    "collapsed": false
   },
   "outputs": [
    {
     "data": {
      "text/plain": [
       "1995"
      ]
     },
     "execution_count": 116,
     "metadata": {},
     "output_type": "execute_result"
    }
   ],
   "source": [
    "# Create new column, SpendPerMonth, by diving total amount spent on learning by months spent programming\n",
    "survey['MonthsProgramming'].replace(0,1, inplace=True) #replace 0 by 1 to avoid dividing by 0\n",
    "survey['SpendPerMonth'] = survey['MoneyForLearning'] / survey['MonthsProgramming']\n",
    "survey['SpendPerMonth'].isnull().sum()"
   ]
  },
  {
   "cell_type": "code",
   "execution_count": 117,
   "metadata": {
    "collapsed": true
   },
   "outputs": [],
   "source": [
    "survey = survey[survey['SpendPerMonth'].notnull()]"
   ]
  },
  {
   "cell_type": "code",
   "execution_count": 118,
   "metadata": {
    "collapsed": true
   },
   "outputs": [],
   "source": [
    "survey = survey[survey['CountryLive'].notnull()]"
   ]
  },
  {
   "cell_type": "code",
   "execution_count": 119,
   "metadata": {
    "collapsed": false
   },
   "outputs": [
    {
     "data": {
      "text/plain": [
       "CountryLive\n",
       "United States of America    206.297711\n",
       "India                        66.526198\n",
       "United Kingdom               55.774980\n",
       "Canada                      118.434054\n",
       "Name: SpendPerMonth, dtype: float64"
      ]
     },
     "execution_count": 119,
     "metadata": {},
     "output_type": "execute_result"
    }
   ],
   "source": [
    "countries_avg = survey.groupby('CountryLive').mean()\n",
    "countries_avg['SpendPerMonth'][['United States of America', 'India', 'United Kingdom', 'Canada']]\n"
   ]
  },
  {
   "cell_type": "markdown",
   "metadata": {},
   "source": [
    "The United States spends the most money, with Canada coming in second. India spends more money on average than our subscription costs, however it is only $7 more than the subscription price so they may not have money left over. This number may also be affected by outliers and the majority of people in India don't spend as much as our subscription costs.\n",
    "\n",
    "I will create box plot to look for outliers."
   ]
  },
  {
   "cell_type": "code",
   "execution_count": 125,
   "metadata": {
    "collapsed": false
   },
   "outputs": [
    {
     "name": "stderr",
     "output_type": "stream",
     "text": [
      "/dataquest/system/env/python3/lib/python3.4/site-packages/seaborn/categorical.py:454: FutureWarning:\n",
      "\n",
      "remove_na is deprecated and is a private function. Do not use.\n",
      "\n"
     ]
    },
    {
     "data": {
      "image/png": "[encoded data removed]",
      "text/plain": [
       "<matplotlib.figure.Figure at 0x7fe70778b6a0>"
      ]
     },
     "metadata": {},
     "output_type": "display_data"
    }
   ],
   "source": [
    "four_countries = survey[survey['CountryLive'].str.contains('United States of America|India|United Kingdom|Canada')]\n",
    "\n",
    "import seaborn as sns\n",
    "sns.boxplot(y = 'SpendPerMonth', x = 'CountryLive',\n",
    "            data = four_countries)\n",
    "plt.title('Money Spent Per Month Per Country\\n(Distributions)')\n",
    "plt.ylabel('Money per month (US dollars)')\n",
    "plt.xlabel('Country')\n",
    "plt.xticks(range(4), ['UK', 'US', 'India', 'Canada']) \n",
    "plt.show()\n",
    "\n"
   ]
  },
  {
   "cell_type": "code",
   "execution_count": 126,
   "metadata": {
    "collapsed": true
   },
   "outputs": [],
   "source": [
    "# Eliminate extreme outliers\n",
    "survey = survey[survey['SpendPerMonth'] < 20000]"
   ]
  },
  {
   "cell_type": "code",
   "execution_count": 127,
   "metadata": {
    "collapsed": false
   },
   "outputs": [
    {
     "data": {
      "text/plain": [
       "CountryLive\n",
       "United States of America    158.919644\n",
       "India                        66.526198\n",
       "United Kingdom               55.774980\n",
       "Canada                      118.434054\n",
       "Name: SpendPerMonth, dtype: float64"
      ]
     },
     "execution_count": 127,
     "metadata": {},
     "output_type": "execute_result"
    }
   ],
   "source": [
    "countries_avg = survey.groupby('CountryLive').mean()\n",
    "countries_avg['SpendPerMonth'][['United States of America', 'India', 'United Kingdom', 'Canada']]\n"
   ]
  },
  {
   "cell_type": "code",
   "execution_count": 128,
   "metadata": {
    "collapsed": false
   },
   "outputs": [
    {
     "name": "stderr",
     "output_type": "stream",
     "text": [
      "/dataquest/system/env/python3/lib/python3.4/site-packages/seaborn/categorical.py:454: FutureWarning:\n",
      "\n",
      "remove_na is deprecated and is a private function. Do not use.\n",
      "\n"
     ]
    },
    {
     "data": {
      "image/png": "[encoded data removed]",
      "text/plain": [
       "<matplotlib.figure.Figure at 0x7fe6fed946a0>"
      ]
     },
     "metadata": {},
     "output_type": "display_data"
    }
   ],
   "source": [
    "sns.boxplot(y = 'SpendPerMonth', x = 'CountryLive',\n",
    "            data = four_countries)\n",
    "plt.title('Money Spent Per Month Per Country\\n(Distributions)')\n",
    "plt.ylabel('Money per month (US dollars)')\n",
    "plt.xlabel('Country')\n",
    "plt.xticks(range(4), ['UK', 'US', 'India', 'Canada']) \n",
    "plt.show()"
   ]
  },
  {
   "cell_type": "code",
   "execution_count": 129,
   "metadata": {
    "collapsed": false
   },
   "outputs": [
    {
     "data": {
      "text/plain": [
       "United States of America    68.642471\n",
       "India                       15.333417\n",
       "United Kingdom               8.765541\n",
       "Canada                       7.258571\n",
       "Name: CountryLive, dtype: float64"
      ]
     },
     "execution_count": 129,
     "metadata": {},
     "output_type": "execute_result"
    }
   ],
   "source": [
    "four_countries['CountryLive'].value_counts(normalize=True) * 100"
   ]
  },
  {
   "cell_type": "markdown",
   "metadata": {},
   "source": [
    "The US is guarenteed to be the best country to advertise in, because they have the highest percentage of respondants and spend the most money. \n",
    "\n",
    "Even though Canada spends more per month than India on average, people in India still spend on average \\$66 USD, which is more than the price of our subscription at \\$59 USD. Since they have twice the amount of potential customers as the UK and Canada, I feel that India is the second best country to advertise in.\n",
    "\n",
    "However, since the US has by far the most potential customers and spends the most money, our advertising budget may be better spent advertising only in the US. I was not schooled in marketing, though, so I will send over all the data to the marketing team and let them decide the best path forward."
   ]
  },
  {
   "cell_type": "code",
   "execution_count": null,
   "metadata": {
    "collapsed": true
   },
   "outputs": [],
   "source": []
  }
 ],
 "metadata": {
  "kernelspec": {
   "display_name": "Python 3",
   "language": "python",
   "name": "python3"
  },
  "language_info": {
   "codemirror_mode": {
    "name": "ipython",
    "version": 3
   },
   "file_extension": ".py",
   "mimetype": "text/x-python",
   "name": "python",
   "nbconvert_exporter": "python",
   "pygments_lexer": "ipython3",
   "version": "3.4.3"
  }
 },
 "nbformat": 4,
 "nbformat_minor": 2
}
