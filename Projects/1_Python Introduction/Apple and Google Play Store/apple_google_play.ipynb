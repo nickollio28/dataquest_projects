{
 "cells": [
  {
   "cell_type": "markdown",
   "metadata": {},
   "source": [
    "# Profitable App Profiles for the App Store and Google Play Markets\n",
    "\n",
    "For this project, we'll pretend we're working as data analysts for a company that builds Android and iOS mobile apps. We make our apps available on Google Play and the App Store.\n",
    "\n",
    "We only build apps that are free to download and install, and our main source of revenue consists of in-app ads. This means our revenue for any given app is mostly influenced by the number of users who use our app — the more users that see and engage with the ads, the better. Our goal for this project is to analyze data to help our developers understand what type of apps are likely to attract more users."
   ]
  },
  {
   "cell_type": "code",
   "execution_count": 1,
   "metadata": {
    "collapsed": true
   },
   "outputs": [],
   "source": [
    "def explore_data(dataset, start, end, rows_and_columns=False):\n",
    "    dataset_slice = dataset[start:end]    \n",
    "    for row in dataset_slice:\n",
    "        print(row)\n",
    "        print('\\n') # adds a new (empty) line after each row\n",
    "\n",
    "    if rows_and_columns:\n",
    "        print('Number of rows:', len(dataset))\n",
    "        print('Number of columns:', len(dataset[0]))"
   ]
  },
  {
   "cell_type": "markdown",
   "metadata": {},
   "source": [
    "File links: \n",
    "- [Apple Store](https://dq-content.s3.amazonaws.com/350/AppleStore.csv), [Documentation](https://www.kaggle.com/ramamet4/app-store-apple-data-set-10k-apps)\n",
    "- [Google Play Store](https://dq-content.s3.amazonaws.com/350/googleplaystore.csv), [Documentation](https://www.kaggle.com/lava18/google-play-store-apps)\n",
    "\n"
   ]
  },
  {
   "cell_type": "code",
   "execution_count": 2,
   "metadata": {
    "collapsed": false
   },
   "outputs": [
    {
     "name": "stdout",
     "output_type": "stream",
     "text": [
      "Apple Data slice \n",
      "\n",
      "['id', 'track_name', 'size_bytes', 'currency', 'price', 'rating_count_tot', 'rating_count_ver', 'user_rating', 'user_rating_ver', 'ver', 'cont_rating', 'prime_genre', 'sup_devices.num', 'ipadSc_urls.num', 'lang.num', 'vpp_lic']\n",
      "\n",
      "\n",
      "['284882215', 'Facebook', '389879808', 'USD', '0.0', '2974676', '212', '3.5', '3.5', '95.0', '4+', 'Social Networking', '37', '1', '29', '1']\n",
      "\n",
      "\n",
      "['389801252', 'Instagram', '113954816', 'USD', '0.0', '2161558', '1289', '4.5', '4.0', '10.23', '12+', 'Photo & Video', '37', '0', '29', '1']\n",
      "\n",
      "\n",
      "['529479190', 'Clash of Clans', '116476928', 'USD', '0.0', '2130805', '579', '4.5', '4.5', '9.24.12', '9+', 'Games', '38', '5', '18', '1']\n",
      "\n",
      "\n",
      "['420009108', 'Temple Run', '65921024', 'USD', '0.0', '1724546', '3842', '4.5', '4.0', '1.6.2', '9+', 'Games', '40', '5', '1', '1']\n",
      "\n",
      "\n",
      "['284035177', 'Pandora - Music & Radio', '130242560', 'USD', '0.0', '1126879', '3594', '4.0', '4.5', '8.4.1', '12+', 'Music', '37', '4', '1', '1']\n",
      "\n",
      "\n",
      "Number of rows: 7197\n",
      "Number of columns: 16\n",
      "\n",
      " \n",
      " Google Data slice \n",
      "\n",
      "['App', 'Category', 'Rating', 'Reviews', 'Size', 'Installs', 'Type', 'Price', 'Content Rating', 'Genres', 'Last Updated', 'Current Ver', 'Android Ver']\n",
      "\n",
      "\n",
      "['Photo Editor & Candy Camera & Grid & ScrapBook', 'ART_AND_DESIGN', '4.1', '159', '19M', '10,000+', 'Free', '0', 'Everyone', 'Art & Design', 'January 7, 2018', '1.0.0', '4.0.3 and up']\n",
      "\n",
      "\n",
      "['Coloring book moana', 'ART_AND_DESIGN', '3.9', '967', '14M', '500,000+', 'Free', '0', 'Everyone', 'Art & Design;Pretend Play', 'January 15, 2018', '2.0.0', '4.0.3 and up']\n",
      "\n",
      "\n",
      "['U Launcher Lite – FREE Live Cool Themes, Hide Apps', 'ART_AND_DESIGN', '4.7', '87510', '8.7M', '5,000,000+', 'Free', '0', 'Everyone', 'Art & Design', 'August 1, 2018', '1.2.4', '4.0.3 and up']\n",
      "\n",
      "\n",
      "['Sketch - Draw & Paint', 'ART_AND_DESIGN', '4.5', '215644', '25M', '50,000,000+', 'Free', '0', 'Teen', 'Art & Design', 'June 8, 2018', 'Varies with device', '4.2 and up']\n",
      "\n",
      "\n",
      "['Pixel Draw - Number Art Coloring Book', 'ART_AND_DESIGN', '4.3', '967', '2.8M', '100,000+', 'Free', '0', 'Everyone', 'Art & Design;Creativity', 'June 20, 2018', '1.1', '4.4 and up']\n",
      "\n",
      "\n",
      "Number of rows: 10841\n",
      "Number of columns: 13\n"
     ]
    }
   ],
   "source": [
    "opened_file_apple = open('AppleStore.csv', encoding = 'utf8')\n",
    "opened_file_google = open('googleplaystore.csv', encoding = 'utf8')\n",
    "from csv import reader\n",
    "read_file_apple = reader(opened_file_apple)\n",
    "read_file_google = reader(opened_file_google)\n",
    "apps_data_apple = list(read_file_apple)\n",
    "apps_data_google = list(read_file_google)\n",
    "\n",
    "#split into header and data pieces\n",
    "header_apple = apps_data_apple[0]\n",
    "data_apple = apps_data_apple[1:]\n",
    "header_google = apps_data_google[0]\n",
    "data_google = apps_data_google[1:]\n",
    "\n",
    "#display slice of data\n",
    "print('Apple Data slice \\n')\n",
    "print(header_apple)\n",
    "print('\\n')\n",
    "explore_data(data_apple, 0, 5, True)\n",
    "print('\\n \\n Google Data slice \\n')\n",
    "print(header_google)\n",
    "print('\\n')\n",
    "explore_data(data_google, 0, 5, True)\n",
    "\n"
   ]
  },
  {
   "cell_type": "markdown",
   "metadata": {
    "collapsed": true
   },
   "source": [
    "\n",
    "\n",
    "# Data cleaning:\n",
    "[Google Play Discussion section](https://www.kaggle.com/lava18/google-play-store-apps/discussion/66015) describes error in entry 10472 - \"this entry has missing 'Rating' and a column shift happened for next columns..\n",
    "10472 Life Made WI-Fi Touchscreen Photo Frame 1.9 19.0 3.0M 1,000+ Free 0 Everyone NaN February 11, 2018 1.0.19 4.0 and up NaN\""
   ]
  },
  {
   "cell_type": "code",
   "execution_count": 3,
   "metadata": {
    "collapsed": false
   },
   "outputs": [
    {
     "name": "stdout",
     "output_type": "stream",
     "text": [
      "['Life Made WI-Fi Touchscreen Photo Frame', '1.9', '19', '3.0M', '1,000+', 'Free', '0', 'Everyone', '', 'February 11, 2018', '1.0.19', '4.0 and up']\n"
     ]
    }
   ],
   "source": [
    "#preview entry\n",
    "print(data_google[10472])"
   ]
  },
  {
   "cell_type": "code",
   "execution_count": 4,
   "metadata": {
    "collapsed": true
   },
   "outputs": [],
   "source": [
    "#error is there - delete row\n",
    "del data_google[10472]"
   ]
  },
  {
   "cell_type": "code",
   "execution_count": 34,
   "metadata": {
    "collapsed": true
   },
   "outputs": [],
   "source": [
    "#check for other entries with missing columns\n",
    "def row_check(data_set_list, store):\n",
    "\n",
    "    selected_store = ''\n",
    "    length = 0\n",
    "\n",
    "    if store == 'google':\n",
    "        selected_store, length = 'google', 13\n",
    "    elif store == 'apple':\n",
    "        selected_store, length = 'apple', 16\n",
    "    else:\n",
    "        return print('Wrong App Store Name')\n",
    "\n",
    "    for row in data_set_list:\n",
    "        if len(row) != length:\n",
    "            print(row)\n",
    "\n",
    "\n",
    "row_check(data_google, 'google')\n",
    "row_check(data_apple, 'apple')\n"
   ]
  },
  {
   "cell_type": "markdown",
   "metadata": {},
   "source": [
    "All other rows correct\n",
    "\n",
    "Check for duplicate entries"
   ]
  },
  {
   "cell_type": "code",
   "execution_count": 36,
   "metadata": {
    "collapsed": false
   },
   "outputs": [
    {
     "name": "stdout",
     "output_type": "stream",
     "text": [
      "\n",
      " Google Dataset Duplicate Data \n",
      "\n",
      "length of duplicate entries: 1181 \n",
      " length of unique entries: 9659\n",
      "Duplicate Entries Frequency Table: {'Blood Pressure(BP) Diary': 2, 'Free Dating App - Meet Local Singles - Flirt Chat': 2, 'Apex Launcher': 3, 'Animal Jam - Play Wild!': 2, 'ASOS': 2, 'Google Duo - High Quality Video Calls': 2, 'Robinhood - Investing, No Fees': 2, 'Just She - Top Lesbian Dating': 3, 'Amazon Kindle': 2, 'Maps - Navigate & Explore': 3, 'Chrome Beta': 2, 'Crunchyroll - Everything Anime': 3, 'Skype - free IM & video calls': 3, 'Hopper - Watch & Book Flights': 2, 'Fly Delta': 2, 'ZALORA Fashion Shopping': 2, 'Facebook Ads Manager': 2, 'Viber Messenger': 5, 'Calm - Meditate, Sleep, Relax': 2, 'Asana: organize team projects': 2, 'Runtastic Sleep Better: Sleep Cycle & Smart Alarm': 2, 'Brilliant': 2, '365Scores - Live Scores': 2, 'Vargo Anesthesia Mega App': 2, 'KAYAK Flights, Hotels & Cars': 3, 'Clover Dating App': 2, 'Free phone calls, free texting SMS on free number': 2, 'Photo Editor-': 2, 'My Dressing - Fashion closet': 2, 'Workout Trainer: fitness coach': 2, 'Fitbit Coach': 2, 'trivago: Hotels & Travel': 3, 'Seven - 7 Minute Workout Training Challenge': 2, 'Zello PTT Walkie Talkie': 2, '8 Ball Pool': 7, 'Moto File Manager': 2, 'CallApp: Caller ID, Blocker & Phone Call Recorder': 2, 'MailChimp - Email, Marketing Automation': 2, 'Google My Business': 3, \"JackThreads: Men's Shopping\": 3, 'Tiny Scanner - PDF Scanner App': 2, 'The CW': 4, 'Notepad & To do list': 2, 'G Cloud Backup': 2, 'Share Music & Transfer Files - Xender': 2, 'Find Real Love — YouLove Premium Dating': 2, 'No.Draw - Colors by Number 2018': 2, 'HD Widgets': 2, 'My Little Pony: Harmony Quest': 2, 'BP Journal - Blood Pressure Diary': 2, 'Fabulous: Motivate Me! Meditate, Relax, Sleep': 2, 'Talking Ben the Dog': 2, 'Sago Mini Friends': 3, 'Hot or Not - Find someone right now': 3, 'Facebook Lite': 2, 'Toca Life: City': 2, 'Firefox Focus: The privacy browser': 3, 'Block Puzzle Classic Legend !': 2, 'Hungry Shark World': 2, 'Nurse Grid': 2, 'Zillow: Find Houses for Sale & Apartments for Rent': 2, 'Fancy': 3, 'B612 - Beauty & Filter Camera': 3, '1800 Contacts - Lens Store': 2, 'Hello Kitty Nail Salon': 2, 'Google Earth': 2, 'UNICORN - Color By Number & Pixel Art Coloring': 2, 'DEER HUNTER 2018': 2, 'FreshBooks Classic': 2, 'Periscope - Live Video': 3, \"COOKING MAMA Let's Cook!\": 2, 'Blur Image Background': 2, 'LINE Camera - Photo editor': 2, 'DisneyNOW – TV Shows & Games': 3, 'Runtastic Running App & Mile Tracker': 3, 'FOX': 2, 'Capital One® Mobile': 2, 'mySugr: the blood sugar tracker made just for you': 3, 'EMT PASS': 2, 'Yandex Browser with Protect': 2, 'Realtor.com Real Estate: Homes for Sale and Rent': 2, 'SHOWTIME': 2, 'BBC News': 3, 'Wanelo Shopping': 2, 'Miraculous Ladybug & Cat Noir - The Official Game': 3, 'Minecraft': 2, 'Diabetes & Diet Tracker': 2, 'Cut the Rope FULL FREE': 3, 'All Social Networks': 2, 'Call Blocker': 2, 'YouTube Gaming': 2, 'Dropbox': 3, 'Smart Launcher 5': 2, 'Black White Interracial Dating - Interracial Match': 2, 'Dog Run - Pet Dog Simulator': 3, 'Weather by eltiempo.es': 2, 'SONIC Drive-In': 2, 'K PLUS': 2, 'Toy Blast': 2, 'LivingSocial - Local Deals': 3, 'Chess Free': 2, 'MTV': 2, 'Calorie Counter by FatSecret': 2, 'Hungry Shark Evolution': 3, 'FarmersOnly Dating': 2, 'American Airlines': 3, 'Calls & Text by Mo+': 2, 'Youper - AI Therapy': 3, 'Pocket Yoga': 2, 'Coursera: Online courses': 2, 'Mobile Doc Scanner (MDScan) Lite': 2, 'Knife Hit': 2, 'Live Girls Talk - Free Video Chat': 2, 'Headspace: Meditation & Mindfulness': 2, 'Podcast App: Free & Offline Podcasts by Player FM': 2, 'iBP Blood Pressure': 2, 'Adobe Photoshop Express:Photo Editor Collage Maker': 2, 'PayPal': 2, 'Anthem BC Anywhere': 2, 'Inside Out Thought Bubbles': 2, 'Camera FV-5': 2, 'Badoo - Free Chat & Dating App': 4, 'Black People Meet Singles Date': 2, 'Text free - Free Text + Call': 2, 'Airway Ex - Intubate. Anesthetize. Train.': 2, 'QuickBooks Accounting: Invoicing & Expenses': 3, 'Houzz Interior Design Ideas': 4, 'Messenger Lite: Free Calls & Messages': 2, 'muzmatch: Muslim & Arab Singles, Marriage & Dating': 3, 'My Talking Angela': 4, 'Frozen Free Fall': 3, 'EMT Review Plus': 2, 'Trulia Real Estate & Rentals': 2, 'Wells Fargo Daily Change': 2, 'Instagram': 4, 'Mint: Budget, Bills, Finance': 3, 'ai.type Free Emoji Keyboard': 2, 'ScriptSave WellRx Rx Discounts': 2, 'LINE WEBTOON - Free Comics': 2, 'Messenger – Text and Video Chat for Free': 3, 'Daily Yoga - Yoga Fitness Plans': 3, 'AnatomyMapp': 2, 'Quora': 2, \"McDonald's\": 2, 'Facetune - For Free': 3, 'InstaBeauty -Makeup Selfie Cam': 2, 'Tagged - Meet, Chat & Dating': 2, 'Backgrounds HD (Wallpapers)': 2, 'Apartments.com Rental Search': 2, 'Etsy: Handmade & Vintage Goods': 2, 'Solitaire': 3, 'Lynda - Online Training Videos': 2, 'Bubble Shooter 2': 2, 'Zappos – Shoe shopping made simple': 2, 'Carousell: Snap-Sell, Chat-Buy': 2, 'Quizlet: Learn Languages & Vocab with Flashcards': 4, 'imo beta free calls and text': 2, 'Reuters News': 2, 'Minion Rush: Despicable Me Official Game': 4, 'Google Drive': 4, 'VH1': 3, 'Box': 3, 'Choices: Stories You Play': 2, 'English Dictionary - Offline': 2, 'NOOK: Read eBooks & Magazines': 2, 'Hily: Dating, Chat, Match, Meet & Hook up': 3, 'Zombie Catchers': 6, 'Chictopia': 2, 'Wheretoget: Shop in style': 2, 'Manga AZ - Manga Comic Reader': 2, 'FIFA - Tournaments, Soccer News & Live Scores': 2, 'Edmodo': 2, 'BBW Dating & Plus Size Chat': 3, 'IBM Micromedex Drug Info': 2, 'NOOK App for NOOK Devices': 2, 'Equestria Girls': 3, 'Motorola FM Radio': 2, 'CppDroid - C/C++ IDE': 2, 'Subway Surfers': 6, 'Mango Languages: Lovable Language Courses': 2, 'Honkai Impact 3rd': 2, 'Penn State Health OnDemand': 2, 'Elmo Calls by Sesame Street': 3, 'Web Browser for Android': 2, 'Ruler': 2, 'Brit + Co': 2, 'Weight Loss Tracker - RecStyle': 2, 'Amino: Communities and Chats': 2, 'ZOOM Cloud Meetings': 2, 'Block Buddy': 2, 'GO Keyboard - Emoticon keyboard, Free Theme, GIF': 2, 'Camera MX - Free Photo & Video Camera': 2, 'Cooking Fever': 2, 'InstaSize Photo Filters & Collage Editor': 2, 'Girls Live Chat - Free Text & Video Chat': 2, 'realestate.com.au - Buy, Rent & Sell Property': 2, 'osmino Wi-Fi: free WiFi': 2, 'Sniper 3D Gun Shooter: Free Shooting Games - FPS': 6, 'All Football - Latest News & Videos': 2, 'Helix Jump': 6, 'English Grammar Test': 2, 'Google Classroom': 3, 'EMT Tutor NREMT-B Study Guide': 2, '95Live -SG#1 Live Streaming App': 2, 'Food Calorie Calculator': 2, 'Cardiac diagnosis (heart rate, arrhythmia)': 3, 'Google Sheets': 2, 'Blood Pressure': 3, 'Telegram': 3, 'Photo Editor Selfie Camera Filter & Mirror Image': 2, 'Polaris Office - Word, Docs, Sheets, Slide, PDF': 2, 'UFC': 2, 'PJ Masks: Moonlight Heroes': 3, 'Puffin Web Browser': 3, 'Camera for Android': 3, 'Walk with Map My Walk': 2, 'CW Seed': 2, 'FlirtChat - ♥Free Dating/Flirting App♥': 2, 'Hotels.com: Book Hotel Rooms & Find Vacation Deals': 2, 'TripAdvisor Hotels Flights Restaurants Attractions': 5, 'The Coupons App': 4, 'Meet4U - Chat, Love, Singles!': 2, 'Anthem Anywhere': 2, 'H TV': 2, 'Granny': 5, 'Glide - Video Chat Messenger': 2, 'Sounds for Toddlers FREE': 2, 'My Class Schedule: Timetable': 2, 'Harry Potter: Hogwarts Mystery': 2, 'MoodSpace': 2, 'Jewels Star: OZ adventure': 2, 'Walmart': 2, 'Simple - Better Banking': 2, 'Beautiful Widgets Free': 2, 'Merge Dragons!': 2, 'Angry Birds Classic': 5, 'Nova Launcher': 2, 'Colorfy: Coloring Book for Adults - Free': 2, 'Moovit: Bus Time & Train Time Live Info': 2, 'Talking Tom Gold Run': 4, 'Mortgage by Zillow: Calculator & Rates': 2, 'Ebook Reader': 2, 'Color by Number – New Coloring Book': 2, 'MyPlate Calorie Tracker': 2, 'Free Cam Girls - Live Webcam': 2, 'WatchESPN': 4, 'Pedi STAT': 2, \"Dr. Panda & Toto's Treehouse\": 3, 'Hide App, Private Dating, Safe Chat - PrivacyHider': 2, 'Howlr': 2, 'Home Security Camera WardenCam - reuse old phones': 2, 'Google+': 2, 'AP Mobile - Breaking News': 2, 'Yahoo Sports - scores, stats, news, & highlights': 3, 'Meditation Music - Relax, Yoga': 2, 'ESPN Fantasy Sports': 4, 'Muscle Premium - Human Anatomy, Kinesiology, Bones': 2, 'Ringtone Maker': 2, 'Hot Wheels: Race Off': 2, 'Dairy Queen': 2, 'Blood Pressure Companion': 2, 'Target - now with Cartwheel': 3, 'Topbuzz: Breaking News, Videos & Funny GIFs': 2, 'Cymera Camera- Photo Editor, Filter,Collage,Layout': 4, 'Racing in Car 2': 2, 'Clash Royale': 4, '2017 EMRA Antibiotic Guide': 2, 'LinkedIn': 2, 'Google Play Games': 2, 'Newsroom: News Worth Sharing': 2, 'Text Free: WiFi Calling App': 3, 'Metal Soldiers 2': 2, 'Flickr': 2, 'Spanish English Translator': 2, 'Kids Balloon Pop Game Free 🎈': 2, 'Dictionary - Merriam-Webster': 2, 'JH Blood Pressure Monitor': 2, \"Game for KIDS: KIDS match'em\": 2, 'Invoice & Time Tracking - Zoho': 2, 'Phogy, 3D Camera': 2, 'Block Craft 3D: Building Simulator Games For Free': 3, 'Google PDF Viewer': 3, 'RULES OF SURVIVAL': 2, 'Nike+ Run Club': 4, 'Southwest Airlines': 2, 'USA TODAY': 3, 'Chrome Dev': 2, 'Zombie Hunter King': 4, 'Genius Scan - PDF Scanner': 2, 'Blendr - Chat, Flirt & Meet': 2, 'Muzy - Share photos & collages': 2, 'Twitter': 3, 'Wattpad 📖 Free Books': 2, 'Hill Climb Racing 2': 2, 'LEGO® Juniors Create & Cruise': 2, 'Love Balls': 2, 'Moco+ - Chat, Meet People': 2, 'Once - Quality Matches Every day': 2, 'Home Workout - No Equipment': 2, 'Golfshot: Golf GPS + Tee Times': 2, 'MeetMe: Chat & Meet New People': 5, 'Red Bull TV: Live Sports, Music & Entertainment': 2, 'BBC Sport': 2, 'OkCupid Dating': 3, 'free video calls and chat': 3, 'Free Dating Hook Up Messenger': 2, 'PGA TOUR': 2, 'Telemundo Now': 2, 'Camera360: Selfie Photo Editor with Funny Sticker': 3, 'Adobe Acrobat Reader': 3, 'Diary with lock': 2, 'Strawberry Shortcake Ice Cream Island': 2, 'OfficeSuite : Free Office + PDF Editor': 2, 'Fashion in Vogue': 3, 'Real Racing 3': 2, 'Camera360 Lite - Selfie Camera': 2, 'Fast Scanner : Free PDF Scan': 2, 'Bubble Shooter': 6, 'E*TRADE Mobile': 2, 'Docs To Go™ Free Office Suite': 2, 'theScore: Live Sports Scores, News, Stats & Videos': 5, 'My Photo Keyboard': 2, 'DC Super Hero Girls™': 4, 'I’m Expecting - Pregnancy App': 2, 'Calorie Counter & Diet Tracker': 2, 'Haystack TV: Local & World News - Free': 2, 'US Open Tennis Championships 2018': 2, 'AdWords Express': 2, 'Blood Pressure Log - MyDiary': 2, 'Ovia Fertility Tracker & Ovulation Calculator': 2, 'CM Flashlight (Compass, SOS)': 2, 'Google Street View': 2, 'Nighty Night Circus': 2, 'AliExpress - Smarter Shopping, Better Living': 4, 'Firefox Browser fast & private': 3, 'Essential Anatomy 3': 2, 'Calculator': 2, 'Xero Accounting Software': 2, 'Checkout 51: Grocery coupons': 3, 'Trulia Rent Apartments & Homes': 2, 'Mobi Calculator free & AD free!': 2, 'Super Hearing Super Ear Amplifier': 2, 'My Diet Diary Calorie Counter': 2, 'Wunderlist: To-Do List & Tasks': 3, 'Acorns - Invest Spare Change': 2, 'Booking.com Travel Deals': 3, 'Disney Magic Kingdoms: Build Your Own Magical Park': 2, 'WhatsApp Business': 2, 'Hole19: Golf GPS App, Rangefinder & Scorecard': 2, 'Jurassic World™ Alive': 2, 'WPS Office - Word, Docs, PDF, Note, Slide & Sheet': 2, 'Shopkick: Free Gift Cards, Shop Rewards & Deals': 2, '10 Best Foods for You': 2, 'ColorNote Notepad Notes': 2, 'Dude Perfect 2': 2, 'HISTORY: Watch TV Show Full Episodes & Specials': 3, 'Shopkins World!': 2, 'iPair-Meet, Chat, Dating': 2, 'DINO HUNTER: DEADLY SHORES': 2, 'BuzzFeed: News, Tasty, Quizzes': 2, 'Chick-fil-A': 3, 'Insightly CRM': 2, 'Open Camera': 3, 'Chispa, the Dating App for Latino, Latina Singles': 2, 'Food Network': 3, 'Any.do: To-do list, Calendar, Reminders & Planner': 3, 'Fishdom': 3, 'PicsArt Photo Studio: Collage Maker & Pic Editor': 2, 'Barbie™ Fashion Closet': 2, 'Newegg Mobile': 2, 'Vaniday - Beauty Booking App': 2, 'Pixel Art: Color by Number Game': 3, 'Yahoo Mail – Stay Organized': 3, 'CBS - Full Episodes & Live TV': 2, 'Curriculum vitae App CV Builder Free Resume Maker': 2, 'Google Keep': 4, 'CM FILE MANAGER HD': 2, 'Zombie Tsunami': 5, 'Talkray - Free Calls & Texts': 2, 'Mapy.cz - Cycling & Hiking offline maps': 2, 'BBW Dating & Curvy Singles Chat- LargeFriends': 2, \"Domino's Pizza USA\": 2, 'ABC News - US & World News': 2, 'High Blood Pressure Symptoms': 2, 'Transit: Real-Time Transit App': 2, 'Six Pack in 30 Days - Abs Workout': 2, 'MARVEL Contest of Champions': 2, 'myAT&T': 2, 'Digit Save Money Automatically': 2, 'Microsoft Excel': 2, 'A&E - Watch Full Episodes of TV Shows': 4, 'Relax Melodies: Sleep Sounds': 2, 'CNBC: Breaking Business News & Live Market Data': 2, 'Google': 2, 'Showtime Anytime': 2, 'Mcqueen Coloring pages': 2, 'MX Player': 3, 'Turbo FAST': 2, 'Agar.io': 2, 'Plants vs. Zombies™ Heroes': 2, 'Episode - Choose Your Story': 2, 'Toca Kitchen 2': 3, 'The 5th Stand': 2, 'Gboard - the Google Keyboard': 3, 'Avokiddo Emotions': 2, 'MLB At Bat': 5, 'DreamWorks Friends': 2, 'Shadow Fight 2': 2, 'VPN Free - Betternet Hotspot VPN & Private Browser': 2, 'RT 516 VET': 2, 'Invoice 2go — Professional Invoices and Estimates': 2, 'Tango - Live Video Broadcast': 2, 'PTA Content Master': 2, 'Android Messages': 2, 'StyleSeat': 2, 'A Manual of Acupuncture': 2, 'Live Talk - Free Text and Video Chat': 2, 'RetailMeNot - Coupons, Deals & Discount Shopping': 3, 'BET NOW - Watch Shows': 3, 'Hulu: Stream TV, Movies & more': 4, 'Sonic Dash': 2, 'Moco - Chat, Meet People': 3, 'PowerDirector Video Editor App: 4K, Slow Mo & More': 2, 'Orbitz - Hotels, Flights & Package Deals': 2, 'PMHNP-BC Pocket Prep': 2, 'Do It Later: Tasks & To-Dos': 2, 'DRAGON BALL LEGENDS': 4, 'textPlus: Free Text & Calls': 2, 'IMDb Movies & TV': 3, 'Nick': 6, 'Cheapflights – Flight Search': 2, 'FastMeet: Chat, Dating, Love': 2, 'BBM - Free Calls & Messages': 2, 'Chat Rooms, Avatars, Date - Galaxy': 2, 'Temple Run 2': 6, 'wetter.com - Weather and Radar': 2, 'Best Fiends - Free Puzzle Game': 2, 'MARVEL Strike Force': 3, 'CM Launcher 3D - Theme, Wallpapers, Efficient': 2, 'DC Comics': 2, 'Google Translate': 2, 'Meetup': 4, 'Angry Birds 2': 2, 'Farming Simulator 14': 2, 'LOVOO': 2, 'Sudy – Meet Elite & Rich Single': 2, 'Candy Camera - selfie, beauty camera, photo editor': 3, 'My Talking Tom': 3, 'Google Allo': 3, 'Phone Tracker : Family Locator': 2, 'Hangouts': 4, 'Pou': 4, 'Duolingo: Learn Languages Free': 7, 'Sago Mini Babies': 2, 'QuickPic - Photo Gallery with Google Drive Support': 3, 'Maps & GPS Navigation — OsmAnd': 2, 'Google Photos': 4, 'Pinterest': 3, 'SnipSnap Coupon App': 2, 'QR Scanner & Barcode Scanner 2018': 2, 'FP Notebook': 2, 'Who': 2, 'Premier League - Official App': 2, 'Moneycontrol – Stocks, Sensex, Mutual Funds, IPO': 2, 'Dating for 50 plus Mature Singles – FINALLY': 2, 'Gyft - Mobile Gift Card Wallet': 3, 'We Heart It': 2, 'Overstock – Home Decor, Furniture Shopping': 2, 'DEAD TARGET: FPS Zombie Apocalypse Survival Games': 2, 'Meet24 - Love, Chat, Singles': 2, 'Shopular: Coupons, Weekly Ads & Shopping Deals': 2, 'Fallout Shelter': 2, 'Messages, Text and Video Chat for Messenger': 2, 'Yahoo Fantasy Sports - #1 Rated Fantasy App': 5, 'Udacity - Lifelong Learning': 2, 'Whoscall - Caller ID & Block': 2, 'Stocard - Rewards Cards Wallet': 2, 'eBay: Buy & Sell this Summer - Discover Deals Now!': 5, 'Runkeeper - GPS Track Run Walk': 2, \"Dunkin' Donuts\": 2, 'Jetpack Joyride': 2, 'CBS Sports App - Scores, News, Stats & Watch Live': 8, 'Wordscapes': 4, 'Banfield Pet Health Tracker': 2, 'Uber': 2, 'MEGA': 2, 'Candy Bomb': 2, 'Masha and the Bear Child Games': 2, 'Lumosity: #1 Brain Games & Cognitive Training App': 2, 'Netflix': 5, 'BZWBK24 mobile': 2, 'Christian Dating For Free App': 2, 'WhatsApp Messenger': 3, 'Crackle - Free TV & Movies': 3, 'CNN Breaking US & World News': 3, 'Airbnb': 2, 'Video Editor': 3, 'The Wall Street Journal: Business & Market News': 2, 'Journal Club: Medicine': 2, 'Super Jim Jump - pixel 3d': 3, 'PlayKids - Educational cartoons and games for kids': 2, 'Fox News – Breaking News, Live Video & News Alerts': 3, 'Daily Manga - Comic & Webtoon': 2, 'Magic Tiles 3': 4, 'Gmail': 3, 'Calorie Counter - MyFitnessPal': 5, 'TED': 4, 'MealLogger-Photo Food Journal': 2, 'Super ABC! Learning games for kids! Preschool apps': 2, 'Block Puzzle': 4, 'Evernote – Organizer, Planner for Notes & Memos': 4, 'letgo: Buy & Sell Used Stuff, Cars & Real Estate': 2, 'Flipboard: News For Our Time': 3, 'Nextdoor - Local neighborhood news & classifieds': 2, 'Microsoft OneNote': 3, 'PBS KIDS Video': 2, 'Run with Map My Run': 3, 'Angry Birds Rio': 4, 'Casual Dating & Adult Singles - Joyride': 2, 'Run Sausage Run!': 2, 'Cricbuzz - Live Cricket Scores & News': 2, 'Postmates Food Delivery: Order Eats & Alcohol': 2, 'CJmall': 2, 'CBS Sports Fantasy': 2, 'Offline Maps & Navigation': 2, 'Flipp - Weekly Shopping': 2, 'Hill Climb Racing': 4, 'Random Video Chat App With Strangers': 2, 'Video Downloader': 2, 'Papumba Academy - Fun Learning For Kids': 3, 'Peak – Brain Games & Training': 2, 'Univision NOW - Live TV and On Demand': 2, 'Score! Hero': 3, 'Ibotta: Cash Back Savings, Rewards & Coupons App': 2, 'TickTick: To Do List with Reminder, Day Planner': 2, 'Google Analytics': 2, 'Hinge: Dating & Relationships': 2, 'FilterGrid - Cam&Photo Editor': 2, 'Teladoc Member': 2, 'MouseMingle': 2, 'SUBWAY®': 2, 'NPR News': 2, 'Todoist: To-do lists for task management & errands': 3, 'ASCCP Mobile': 2, 'HD Camera for Android': 2, 'Beautiful Widgets Pro': 2, 'Crossy Road': 2, 'Dungeon Hunter Champions: Epic Online Action RPG': 2, 'Bowmasters': 6, 'Google News': 4, 'No Crop & Square for Instagram': 2, 'Zoosk Dating App: Meet Singles': 2, 'Tubi TV - Free Movies & TV': 3, 'Google Calendar': 3, 'Facebook Pages Manager': 2, 'Rosetta Stone: Learn to Speak & Read New Languages': 4, 'Jaumo Dating, Flirt & Live Video': 2, 'Shutterfly: Free Prints, Photo Books, Cards, Gifts': 4, 'Clash of Clans': 4, 'TextNow - free text + calls': 2, 'Opera Browser: Fast and Secure': 3, 'Couple - Relationship App': 2, 'Photo Editor Pro': 2, 'O-Star': 3, 'JOANN - Crafts & Coupons': 2, 'Cardboard': 2, 'Starbucks': 2, 'EMT-B Pocket Prep': 2, 'Geometry Dash World': 2, 'Movies by Flixster, with Rotten Tomatoes': 3, 'Candy Crush Soda Saga': 3, 'Vigo Video': 2, 'Tumblr': 3, 'ClassDojo': 3, 'Princess Coloring Book': 2, 'Oxford Dictionary of English : Free': 2, 'Monash Uni Low FODMAP Diet': 2, 'Nike Training Club - Workouts & Fitness Plans': 3, 'LINE: Free Calls & Messages': 3, 'BeyondMenu Food Delivery': 2, 'FOX NOW - On Demand & Live TV': 3, 'Microsoft PowerPoint': 2, 'Babbel – Learn Languages': 4, 'ooVoo Video Calls, Messaging & Stories': 2, 'Medical ID - In Case of Emergency (ICE)': 2, 'Monster Truck Driver & Racing': 2, 'Lose It! - Calorie Counter': 3, 'YouTube': 2, 'Flow Free': 5, 'Panera Bread': 2, 'Cougar Dating Life : Date Older Women Sugar Mummy': 2, 'Viki: Asian TV Dramas & Movies': 3, 'Learn languages, grammar & vocabulary with Memrise': 4, 'Microsoft Edge': 2, 'Dating App, Flirt & Chat : W-Match': 2, 'Free Dating & Flirt Chat - Choice of Love': 2, 'Comedy Central': 2, 'Advanced Comprehension Therapy': 2, 'VLC for Android': 2, 'Fun Kid Racing - Motocross': 2, 'YouCam Makeup - Magic Selfie Makeovers': 2, '21-Day Meditation Experience': 2, 'Transenger – Ts Dating and Chat for Free': 2, 'Relax Meditation: Sleep with Sleep Sounds': 2, 'Free Blood Pressure': 3, 'Redfin Real Estate': 2, 'NBC News': 2, 'Slack': 3, 'Rider': 2, 'Bita and the Animals - Pelos Ares': 2, 'Lifetime - Watch Full Episodes & Original Movies': 3, 'slither.io': 6, '8fit Workouts & Meal Planner': 2, 'Opera Mini - fast web browser': 3, 'Google Docs': 3, 'Photo Editor': 2, 'busuu: Learn Languages - Spanish, English & More': 4, 'Hospitalist Handbook': 2, 'Final Fantasy XV: A New Empire': 2, 'Fantasy Football': 2, 'Ada - Your Health Guide': 2, \"Modcloth – Unique Indie Women's Fashion & Style\": 2, 'Facebook': 2, 'DU Browser—Browse fast & fun': 2, 'EliteSingles – Dating for Single Professionals': 2, 'Google Pay': 4, 'Priceline Hotel Deals, Rental Cars & Flights': 3, 'Who Viewed My Facebook Profile - Stalkers Visitors': 2, 'Scarf Fashion Designer': 2, 'Cache Cleaner-DU Speed Booster (booster & cleaner)': 2, 'Waze - GPS, Maps, Traffic Alerts & Live Navigation': 2, 'CM Browser - Ad Blocker , Fast Download , Privacy': 2, 'PUBG MOBILE': 4, 'UC Browser Mini -Tiny Fast Private & Secure': 3, 'join.me - Simple Meetings': 3, 'Thomas & Friends: Race On!': 2, 'Bleacher Report: sports news, scores, & highlights': 6, 'Millionaire Match: Rich Singles Dating App': 2, 'Money Lover: Expense Tracker, Budget Planner': 2, 'AccuWeather: Daily Forecast & Live Weather Reports': 2, 'Calorie Counter - MyNetDiary': 2, 'Swamp Attack': 2, 'Kick the Buddy': 4, 'SHAREit - Transfer & Share': 2, 'Health and Nutrition Guide': 2, 'Z Camera - Photo Editor, Beauty Selfie, Collage': 2, 'Candy Crush Jelly Saga': 2, 'ES File Explorer File Manager': 3, 'ROBLOX': 9, 'Strawberry Shortcake BerryRush': 3, 'Idle Heroes': 2, 'CMB Free Dating App': 2, 'Wells Fargo Mobile': 2, 'FOX Sports: Live Streaming, Scores & News': 2, 'imo free video calls and chat': 4, 'Poshmark - Buy & Sell Fashion': 2, 'Telegram X': 2, 'C Programming': 2, 'TO-FU Oh!SUSHI': 2, 'FotMob - Live Soccer Scores': 2, 'AAFP': 2, 'Grubhub: Food Delivery': 2, 'Word Search': 4, 'Wendy’s – Food and Offers': 2, 'The Emirates App': 2, 'Adult Dirty Emojis': 3, 'AC - Tips & News for Android™': 2, 'Candy Crush Saga': 7, 'Weight Watchers Mobile': 3, 'HBO GO: Stream with TV Package': 2, 'Twitch: Livestream Multiplayer Games & Esports': 2, 'YouTube Studio': 2, 'Farm Heroes Saga': 5, 'BeautyPlus - Easy Photo Editor & Selfie Camera': 5, 'Fruits Bomb': 2, 'Last Day on Earth: Survival': 2, 'Monster High™': 2, 'Free Dating App - YoCutie - Flirt, Chat & Meet': 2, 'STARZ': 3, 'Microsoft Word': 3, 'PAC-MAN': 2, 'Groupon - Shop Deals, Discounts & Coupons': 4, 'Chat Kids - Chat Room For Kids': 2, 'Cartoon Network App': 2, 'Period Tracker': 2, 'Endomondo - Running & Walking': 2, 'MLB Ballpark': 2, 'Breastfeeding Tracker Baby Log': 2, 'LEGO® TV': 2, 'Learn 50 languages': 2, 'Tiny Scanner Pro: PDF Doc Scan': 2, 'To-Do Calendar Planner': 2, 'Skyscanner': 5, 'Castle Clash: Heroes of the Empire US': 2, 'HipChat - Chat Built for Teams': 2, 'Diabetes:M': 2, 'Talkatone: Free Texts, Calls & Phone Number': 2, 'Earn to Die 2': 2, 'Credit Karma': 3, 'British Airways': 2, 'Photo Editor by Aviary': 2, 'Baby Panda Care': 2, 'Pokémon GO': 2, 'Homescapes': 2, 'stranger chat - anonymous chat': 2, 'Learn C++': 2, 'Galaxy Attack: Alien Shooter': 3, 'Expedia Hotels, Flights & Car Rental Travel Deals': 4, 'Face Filter, Selfie Editor - Sweet Camera': 2, 'YouTube Kids': 4, 'Weight Loss Running by Verv': 3, 'Amazon Shopping': 3, 'Apartment List: Housing, Apt, and Property Rentals': 2, 'My Little Pony Celebration': 2, 'Fandango Movies - Times + Tickets': 2, 'LiveMe - Video chat, new friends, and make money': 2, 'Traffic Racer': 2, 'HBO NOW: Stream TV & Movies': 4, 'Khan Academy': 3, 'Anger of stick 5 : zombie': 2, 'Tee and Mo Bath Time Free': 2, 'Paramedic Protocol Provider': 2, 'Gardenscapes': 2, 'WWE': 2, 'Microsoft Outlook': 2, 'UC Browser - Fast Download Private & Secure': 3, 'The NBC App - Watch Live TV and Full Episodes': 2, 'CM Locker - Security Lockscreen': 2, 'H&M': 2, 'School of Dragons': 2, \"Alto's Adventure\": 2, 'All Mental disorders': 2, 'ESPN': 7, 'Random Video Chat': 2, 'Wish - Shopping Made Fun': 5, 'Zara': 2, 'Lark - 24/7 Health Coach': 2, 'Gay Sugar Daddy Dating & Hookup – Sudy Gay': 2, 'Snapchat': 4, 'NFL': 3, 'Tapatalk - 100,000+ Forums': 2, 'Flipkart Online Shopping App': 2, 'Video Player All Format': 2, 'Truecaller: Caller ID, SMS spam blocking & Dialer': 2, 'HelloTalk — Chat, Speak & Learn Foreign Languages': 2, 'Google Ads': 3, 'Plants vs. Zombies FREE': 5, 'YouCam Perfect - Selfie Photo Editor': 3, 'Accounting App - Zoho Books': 2, 'Learn English with Wlingua': 2, 'The Game of Life': 2, 'Hostelworld: Hostels & Cheap Hotels Travel App': 2, 'Maricopa AH': 2, 'Udemy - Online Courses': 3, 'Coloring book moana': 2, 'United Airlines': 2, 'Flashlight': 2, 'Slickdeals: Coupons & Shopping': 3, 'NYTimes - Latest News': 3, 'Simple Habit Meditation': 2, 'Crew - Free Messaging and Scheduling': 2, 'Hangouts Dialer - Call Phones': 2, 'Zenefits': 2, 'edX - Online Courses by Harvard, MIT & more': 2, 'TurboScan: scan documents and receipts in PDF': 2, \"fred's Pharmacy\": 2, 'The Sims™ FreePlay': 2, 'Planner Pro-Personal Organizer': 2, 'POF Free Dating App': 3, '420 BZ Budeze Delivery': 2, 'Socratic - Math Answers & Homework Help': 2, 'WeChat': 4, 'Camera FV-5 Lite': 2, 'ZEDGE™ Ringtones & Wallpapers': 4, 'Extreme Coupon Finder': 3, 'Blood Pressure Monitor': 2, 'Toon Blast': 3, 'SayHi Chat, Meet New People': 3, 'Fuzzy Numbers: Pre-K Number Foundation': 2, 'Cardi B Live Stream Video Chat - Prank': 2, 'Zomato - Restaurant Finder and Food Delivery App': 2, 'Amazon for Tablets': 2, 'HotelTonight: Book amazing deals at great hotels': 3, 'Microsoft OneDrive': 2, 'Google Voice': 3, 'Sway Medical': 2, 'Quick PDF Scanner + OCR FREE': 3, 'Garena Free Fire': 4, 'Calorie Counter - Macros': 2, 'SKOUT - Meet, Chat, Go Live': 2, 'Human Anatomy Atlas 2018: Complete 3D Human Body': 3, 'SignEasy | Sign and Fill PDF and other Documents': 2, 'CT Scan Cross Sectional Anatomy': 2, 'Apartments & Rentals - Zillow': 2, 'Google Chrome: Fast & Secure': 3, 'KakaoTalk: Free Calls & Text': 3, 'Dream League Soccer 2018': 3, 'Textgram - write on photos': 2}\n",
      "\n",
      " Apple Dataset Duplicate Data \n",
      "\n",
      "length of duplicate entries: 2 \n",
      " length of unique entries: 7195\n",
      "Duplicate Entries Frequency Table: {'VR Roller Coaster': 2, 'Mannequin Challenge': 2}\n"
     ]
    }
   ],
   "source": [
    "def duplicate_entries_count(data,n):\n",
    "    duplicate_entries=[]\n",
    "    unique_entries=[]\n",
    "    duplicate_entries_freq={}\n",
    "    for row in data:\n",
    "        name=row[n]\n",
    "        if name in unique_entries:\n",
    "            duplicate_entries.append(name)\n",
    "        else:\n",
    "            unique_entries.append(name)\n",
    "    for name in duplicate_entries:    \n",
    "        if name in duplicate_entries_freq:\n",
    "            duplicate_entries_freq[name]+=1\n",
    "        else:\n",
    "            duplicate_entries_freq[name]=2\n",
    "    print('length of duplicate entries:',len(duplicate_entries),'\\n', 'length of unique entries:', len(unique_entries))\n",
    "    print('Duplicate Entries Frequency Table:',duplicate_entries_freq)\n",
    "\n",
    "    \n",
    "print('\\n','Google Dataset Duplicate Data','\\n')\n",
    "duplicate_entries_count(data_google,0)\n",
    "print('\\n','Apple Dataset Duplicate Data','\\n')\n",
    "duplicate_entries_count(data_apple,1)\n"
   ]
  },
  {
   "cell_type": "markdown",
   "metadata": {},
   "source": [
    "1181 duplicate entries for google, 2 duplicate entries for apple\n",
    "\n",
    "Need to remove duplicates. Duplicate entries vary in their number of reviews. Instead of randomly removing them, we will keep the entry with the highest number of reviews, since that is likely the most recent.\n",
    "\n",
    "- Create dictionary, where key is app name and value is highest number of reviews of that app\n",
    "- Use the information stored in the dictionary and create a new data set, which will have only one entry per app, and for each app, we'll only select the entry with the highest number of reviews"
   ]
  },
  {
   "cell_type": "code",
   "execution_count": 40,
   "metadata": {
    "collapsed": false
   },
   "outputs": [
    {
     "name": "stdout",
     "output_type": "stream",
     "text": [
      "length of  Apple  reviews_max dictionary:  7195\n",
      "length of  Apple  unique list:  7195\n",
      "length of  Google  reviews_max dictionary:  9659\n",
      "length of  Google  unique list:  9659\n"
     ]
    }
   ],
   "source": [
    "def max_reviews_dict(data, apple_or_google):\n",
    "    reviews_max = {}\n",
    "    if apple_or_google == 'Apple':\n",
    "        name_id = 1\n",
    "        review_id = 5\n",
    "    elif apple_or_google == 'Google':\n",
    "        name_id = 0\n",
    "        review_id = 3\n",
    "        \n",
    "    for row in data:\n",
    "        name = row[name_id]\n",
    "        num_reviews = float(row[review_id])\n",
    "        if (name in reviews_max and reviews_max[name] < num_reviews) or (name not in reviews_max):\n",
    "            reviews_max[name] = num_reviews\n",
    "\n",
    "    print('length of ', apple_or_google, ' reviews_max dictionary: ', len(reviews_max))\n",
    "    \n",
    "    return reviews_max\n",
    "\n",
    "def remove_duplicates(data, apple_or_google):\n",
    "    if apple_or_google == 'Apple':\n",
    "        name_id = 1\n",
    "        review_id = 5\n",
    "    elif apple_or_google == 'Google':\n",
    "        name_id = 0\n",
    "        review_id = 3\n",
    "    \n",
    "    reviews_dict = max_reviews_dict(data, apple_or_google)\n",
    "    clean = []\n",
    "    already_added = []\n",
    "    for row in data:\n",
    "        name = row[name_id]\n",
    "        num_reviews = float(row[review_id])\n",
    "        if num_reviews == reviews_dict[name] and name not in already_added:\n",
    "            clean.append(row)\n",
    "            already_added.append(name)\n",
    "    \n",
    "    print('length of ', apple_or_google, ' unique list: ', len(clean))\n",
    "    \n",
    "    return clean\n",
    "        \n",
    "        \n",
    "data_apple_unique = remove_duplicates(data_apple, 'Apple')\n",
    "data_google_unique = remove_duplicates(data_google, 'Google')\n"
   ]
  },
  {
   "cell_type": "markdown",
   "metadata": {},
   "source": [
    "new unique list has correct number of entries - duplicates removed\n",
    "\n",
    "Now remove apps that are not directed at English speaking audience:\n",
    "- if entries have > 3 letters outside english language (> ASCII 0 - 127), remove it\n",
    "    - some entries may have trademark logo, emojis, etc. so only remove if > 3 letters not 0-127\n"
   ]
  },
  {
   "cell_type": "code",
   "execution_count": 42,
   "metadata": {
    "collapsed": false
   },
   "outputs": [
    {
     "name": "stdout",
     "output_type": "stream",
     "text": [
      "length of unique english apple data:  6181\n",
      "length of unique english google data:  9614\n"
     ]
    }
   ],
   "source": [
    "def check_non_english(name):\n",
    "    i = 0\n",
    "    for letter in name:\n",
    "        if ord(letter) > 127:\n",
    "            i += 1\n",
    "    if i > 3:\n",
    "        return False\n",
    "    else:\n",
    "        return True\n",
    "\n",
    "\n",
    "def remove_non_english(data, n):\n",
    "    data_english = []\n",
    "    for row in data:\n",
    "        name = row[n]\n",
    "        if check_non_english(name) == True:\n",
    "            data_english.append(row)\n",
    "    return data_english\n",
    "\n",
    "data_apple_en = remove_non_english(data_apple_unique, 1)\n",
    "data_google_en = remove_non_english(data_google_unique, 0)\n",
    "        \n",
    "\n",
    "print('length of unique english apple data: ', len(data_apple_en))\n",
    "print('length of unique english google data: ', len(data_google_en))\n",
    "\n",
    "\n",
    "    "
   ]
  },
  {
   "cell_type": "markdown",
   "metadata": {},
   "source": [
    "So far, have removed:\n",
    "- inaccuracte data\n",
    "- duplicate entries\n",
    "- non-English apps\n",
    "\n",
    "As mentioned in intro, we only build apps that are free to download\n",
    "- isolate only the free apps"
   ]
  },
  {
   "cell_type": "code",
   "execution_count": 50,
   "metadata": {
    "collapsed": false
   },
   "outputs": [
    {
     "name": "stdout",
     "output_type": "stream",
     "text": [
      "Length of cleaned Apple data:  3220\n",
      "Length of cleaned Google data:  8863\n"
     ]
    }
   ],
   "source": [
    "def remove_paid(data, apple_or_google):        \n",
    "    data_free = []    \n",
    "    for row in data:\n",
    "        if apple_or_google == 'Apple':\n",
    "            price_id = 4\n",
    "            price = float(row[price_id])\n",
    "        elif apple_or_google == 'Google':\n",
    "            price_id = 6\n",
    "            if row[price_id] == 'Free':\n",
    "                price = 0.0\n",
    "            else:\n",
    "                price = 1.0\n",
    "        if price == 0.0:\n",
    "            data_free.append(row)\n",
    "    return data_free\n",
    "\n",
    "data_apple_clean = remove_paid(data_apple_en, 'Apple')\n",
    "data_google_clean = remove_paid(data_google_en, 'Google')\n",
    "\n",
    "print('Length of cleaned Apple data: ', len(data_apple_clean))\n",
    "print('Length of cleaned Google data: ', len(data_google_clean))\n"
   ]
  },
  {
   "cell_type": "markdown",
   "metadata": {},
   "source": [
    "Finished cleaning data\n",
    "\n",
    "Now time to analyze:\n",
    "- find app profile that is successful on both iOS and Android\n",
    "    - strategy for app idea:\n",
    "        - build minimal android version of app and add it to Google Play Store\n",
    "        - if app has good response, develop it further\n",
    "        - if app profitable after 6 months, build iOS version and add it to App Store\n",
    "- start by finding what most common genres are for each market\n",
    "    - build frequency tables for a few columns of data sets"
   ]
  },
  {
   "cell_type": "code",
   "execution_count": 52,
   "metadata": {
    "collapsed": false
   },
   "outputs": [
    {
     "name": "stdout",
     "output_type": "stream",
     "text": [
      "['id', 'track_name', 'size_bytes', 'currency', 'price', 'rating_count_tot', 'rating_count_ver', 'user_rating', 'user_rating_ver', 'ver', 'cont_rating', 'prime_genre', 'sup_devices.num', 'ipadSc_urls.num', 'lang.num', 'vpp_lic'] \n",
      "\n",
      " ['App', 'Category', 'Rating', 'Reviews', 'Size', 'Installs', 'Type', 'Price', 'Content Rating', 'Genres', 'Last Updated', 'Current Ver', 'Android Ver']\n"
     ]
    }
   ],
   "source": [
    "print(header_apple, '\\n\\n', header_google)"
   ]
  },
  {
   "cell_type": "markdown",
   "metadata": {},
   "source": [
    "categories to use: \n",
    "- apple: prime_genre (11)\n",
    "- google: Category (1), Genres (9)\n",
    "\n",
    "other useful categories:\n",
    "- appple: track_name (1), rating_count_tot (5), user_rating (7), prime_genre (11)\n",
    "- google: App (0), Category (1), Rating (2), Reviews (3), Installs (4)\n",
    "\n",
    "\n",
    "build two functions to analyse frequency tables:\n",
    "- function to generate freq tables that show percentages\n",
    "- function to display percentages in descending order\n",
    "    - transform dictionary into list of tuples, each tuple contains key and value\n",
    "        - value first, key second so sortig works\n"
   ]
  },
  {
   "cell_type": "code",
   "execution_count": 58,
   "metadata": {
    "collapsed": false
   },
   "outputs": [
    {
     "name": "stdout",
     "output_type": "stream",
     "text": [
      "Apple prime_genre frequency table:  \n",
      "\n",
      "Games : 58.14 %\n",
      "Entertainment : 7.89 %\n",
      "Photo & Video : 4.97 %\n",
      "Education : 3.66 %\n",
      "Social Networking : 3.29 %\n",
      "Shopping : 2.61 %\n",
      "Utilities : 2.52 %\n",
      "Sports : 2.14 %\n",
      "Music : 2.05 %\n",
      "Health & Fitness : 2.02 %\n",
      "Productivity : 1.74 %\n",
      "Lifestyle : 1.58 %\n",
      "News : 1.34 %\n",
      "Travel : 1.24 %\n",
      "Finance : 1.12 %\n",
      "Weather : 0.87 %\n",
      "Food & Drink : 0.81 %\n",
      "Reference : 0.56 %\n",
      "Business : 0.53 %\n",
      "Book : 0.43 %\n",
      "Navigation : 0.19 %\n",
      "Medical : 0.19 %\n",
      "Catalogs : 0.12 %\n",
      "\n",
      " Google Category frequency table:  \n",
      "\n",
      "FAMILY : 18.9 %\n",
      "GAME : 9.73 %\n",
      "TOOLS : 8.46 %\n",
      "BUSINESS : 4.59 %\n",
      "LIFESTYLE : 3.9 %\n",
      "PRODUCTIVITY : 3.89 %\n",
      "FINANCE : 3.7 %\n",
      "MEDICAL : 3.53 %\n",
      "SPORTS : 3.4 %\n",
      "PERSONALIZATION : 3.32 %\n",
      "COMMUNICATION : 3.24 %\n",
      "HEALTH_AND_FITNESS : 3.08 %\n",
      "PHOTOGRAPHY : 2.94 %\n",
      "NEWS_AND_MAGAZINES : 2.8 %\n",
      "SOCIAL : 2.66 %\n",
      "TRAVEL_AND_LOCAL : 2.34 %\n",
      "SHOPPING : 2.25 %\n",
      "BOOKS_AND_REFERENCE : 2.14 %\n",
      "DATING : 1.86 %\n",
      "VIDEO_PLAYERS : 1.79 %\n",
      "MAPS_AND_NAVIGATION : 1.4 %\n",
      "FOOD_AND_DRINK : 1.24 %\n",
      "EDUCATION : 1.16 %\n",
      "ENTERTAINMENT : 0.96 %\n",
      "LIBRARIES_AND_DEMO : 0.94 %\n",
      "AUTO_AND_VEHICLES : 0.93 %\n",
      "HOUSE_AND_HOME : 0.82 %\n",
      "WEATHER : 0.8 %\n",
      "EVENTS : 0.71 %\n",
      "PARENTING : 0.65 %\n",
      "ART_AND_DESIGN : 0.64 %\n",
      "COMICS : 0.62 %\n",
      "BEAUTY : 0.6 %\n",
      "\n",
      " Google Genres frequency table:  \n",
      "\n",
      "Tools : 8.45 %\n",
      "Entertainment : 6.07 %\n",
      "Education : 5.35 %\n",
      "Business : 4.59 %\n",
      "Productivity : 3.89 %\n",
      "Lifestyle : 3.89 %\n",
      "Finance : 3.7 %\n",
      "Medical : 3.53 %\n",
      "Sports : 3.46 %\n",
      "Personalization : 3.32 %\n",
      "Communication : 3.24 %\n",
      "Action : 3.1 %\n",
      "Health & Fitness : 3.08 %\n",
      "Photography : 2.94 %\n",
      "News & Magazines : 2.8 %\n",
      "Social : 2.66 %\n",
      "Travel & Local : 2.32 %\n",
      "Shopping : 2.25 %\n",
      "Books & Reference : 2.14 %\n",
      "Simulation : 2.04 %\n",
      "Dating : 1.86 %\n",
      "Arcade : 1.85 %\n",
      "Video Players & Editors : 1.77 %\n",
      "Casual : 1.76 %\n",
      "Maps & Navigation : 1.4 %\n",
      "Food & Drink : 1.24 %\n",
      "Puzzle : 1.13 %\n",
      "Racing : 0.99 %\n",
      "Role Playing : 0.94 %\n",
      "Libraries & Demo : 0.94 %\n",
      "Auto & Vehicles : 0.93 %\n",
      "Strategy : 0.9 %\n",
      "House & Home : 0.82 %\n",
      "Weather : 0.8 %\n",
      "Events : 0.71 %\n",
      "Adventure : 0.68 %\n",
      "Comics : 0.61 %\n",
      "Beauty : 0.6 %\n",
      "Art & Design : 0.6 %\n",
      "Parenting : 0.5 %\n",
      "Card : 0.45 %\n",
      "Casino : 0.43 %\n",
      "Trivia : 0.42 %\n",
      "Educational;Education : 0.39 %\n",
      "Board : 0.38 %\n",
      "Educational : 0.37 %\n",
      "Education;Education : 0.34 %\n",
      "Word : 0.26 %\n",
      "Casual;Pretend Play : 0.24 %\n",
      "Music : 0.2 %\n",
      "Racing;Action & Adventure : 0.17 %\n",
      "Puzzle;Brain Games : 0.17 %\n",
      "Entertainment;Music & Video : 0.17 %\n",
      "Casual;Brain Games : 0.14 %\n",
      "Casual;Action & Adventure : 0.14 %\n",
      "Arcade;Action & Adventure : 0.12 %\n",
      "Action;Action & Adventure : 0.1 %\n",
      "Educational;Pretend Play : 0.09 %\n",
      "Simulation;Action & Adventure : 0.08 %\n",
      "Parenting;Education : 0.08 %\n",
      "Entertainment;Brain Games : 0.08 %\n",
      "Board;Brain Games : 0.08 %\n",
      "Parenting;Music & Video : 0.07 %\n",
      "Educational;Brain Games : 0.07 %\n",
      "Casual;Creativity : 0.07 %\n",
      "Art & Design;Creativity : 0.07 %\n",
      "Education;Pretend Play : 0.06 %\n",
      "Role Playing;Pretend Play : 0.05 %\n",
      "Education;Creativity : 0.05 %\n",
      "Role Playing;Action & Adventure : 0.03 %\n",
      "Puzzle;Action & Adventure : 0.03 %\n",
      "Entertainment;Creativity : 0.03 %\n",
      "Entertainment;Action & Adventure : 0.03 %\n",
      "Educational;Creativity : 0.03 %\n",
      "Educational;Action & Adventure : 0.03 %\n",
      "Education;Music & Video : 0.03 %\n",
      "Education;Brain Games : 0.03 %\n",
      "Education;Action & Adventure : 0.03 %\n",
      "Adventure;Action & Adventure : 0.03 %\n",
      "Video Players & Editors;Music & Video : 0.02 %\n",
      "Sports;Action & Adventure : 0.02 %\n",
      "Simulation;Pretend Play : 0.02 %\n",
      "Puzzle;Creativity : 0.02 %\n",
      "Music;Music & Video : 0.02 %\n",
      "Entertainment;Pretend Play : 0.02 %\n",
      "Casual;Education : 0.02 %\n",
      "Board;Action & Adventure : 0.02 %\n",
      "Video Players & Editors;Creativity : 0.01 %\n",
      "Trivia;Education : 0.01 %\n",
      "Travel & Local;Action & Adventure : 0.01 %\n",
      "Tools;Education : 0.01 %\n",
      "Strategy;Education : 0.01 %\n",
      "Strategy;Creativity : 0.01 %\n",
      "Strategy;Action & Adventure : 0.01 %\n",
      "Simulation;Education : 0.01 %\n",
      "Role Playing;Brain Games : 0.01 %\n",
      "Racing;Pretend Play : 0.01 %\n",
      "Puzzle;Education : 0.01 %\n",
      "Parenting;Brain Games : 0.01 %\n",
      "Music & Audio;Music & Video : 0.01 %\n",
      "Lifestyle;Pretend Play : 0.01 %\n",
      "Lifestyle;Education : 0.01 %\n",
      "Health & Fitness;Education : 0.01 %\n",
      "Health & Fitness;Action & Adventure : 0.01 %\n",
      "Entertainment;Education : 0.01 %\n",
      "Communication;Creativity : 0.01 %\n",
      "Comics;Creativity : 0.01 %\n",
      "Casual;Music & Video : 0.01 %\n",
      "Card;Action & Adventure : 0.01 %\n",
      "Books & Reference;Education : 0.01 %\n",
      "Art & Design;Pretend Play : 0.01 %\n",
      "Art & Design;Action & Adventure : 0.01 %\n",
      "Arcade;Pretend Play : 0.01 %\n",
      "Adventure;Education : 0.01 %\n"
     ]
    }
   ],
   "source": [
    "def freq_table(dataset, index):\n",
    "    frequency_table = {}\n",
    "    frequency_table_percent = {}\n",
    "    for row in dataset:\n",
    "        name = row[index]\n",
    "        if name in frequency_table:\n",
    "            frequency_table[name] += 1\n",
    "        else:\n",
    "            frequency_table[name] = 1\n",
    "    total = 0        \n",
    "    for name in frequency_table:\n",
    "        total += frequency_table[name]\n",
    "    \n",
    "    for name in frequency_table:\n",
    "        frequency_table_percent[name] = frequency_table[name] / total * 100\n",
    "    \n",
    "    return frequency_table_percent\n",
    "    \n",
    "def display_table(dataset, index):\n",
    "    table = freq_table(dataset, index)\n",
    "    table_display = []\n",
    "    for key in table:\n",
    "        key_val_as_tuple = (table[key], key)\n",
    "        table_display.append(key_val_as_tuple)\n",
    "\n",
    "    table_sorted = sorted(table_display, reverse = True)\n",
    "    for entry in table_sorted:\n",
    "        print(entry[1], ':', round(entry[0], 2), '%')\n",
    "        \n",
    "print('Apple prime_genre frequency table: ', '\\n')\n",
    "display_table(data_apple_clean, 11)\n",
    "print('\\n','Google Category frequency table: ', '\\n')\n",
    "display_table(data_google_clean, 1)\n",
    "print('\\n','Google Genres frequency table: ', '\\n')\n",
    "display_table(data_google_clean, 9)\n"
   ]
  },
  {
   "cell_type": "markdown",
   "metadata": {},
   "source": [
    "Analyze:\n",
    "- Apple:\n",
    "    - most common genre: Games\n",
    "    - second most common genre: Entertainment\n",
    "    - most popular genres are for entertainment purposes (games, entertainment, photo and video, social networking, sports, music)\n",
    "    - apps for practical purposes (education, shopping, utilities, productivity, lifestyle) not as common\n",
    "    - even though a genre is very common doesn't mean it has large number of users\n",
    "        - games most popular, and would be hard to break into\n",
    "        - most users still use less common genres such as social networking, photo & video, and music - would be easier to get a user base\n",
    "       \n",
    "- Google Play:\n",
    "    - most common category: Family\n",
    "    - second most common category: Game\n",
    "    \n",
    "    - most common genre: Tools\n",
    "    - second most common genre: Entertainment\n",
    "    - most common categories and genres are for practical purposes (education, shopping, utilities, productivity, lifestyle)\n",
    "    - on Android, you can customize your phone with apps much more than with iPhone\n",
    "        - many practical apps on Android may not be able to cross over to iOS\n",
    "            - can still be profitable on Android\n",
    "        - games not as common - can release game on Android where it has higher chance of gaining popularity\n",
    "            - transfer over to iOS once its already popular, and it can compete with their large population of gaming apps\n",
    "            \n",
    "\n",
    "\n",
    "Proportions of apps are useful, but we will need to see which apps have most users as well\n",
    "    - Google: Installs (5)\n",
    "    - Apple: rating_count_total (5)\n",
    "    \n",
    "Apple App Store - calculate average number of user ratings per genre\n",
    "    - isolate apps of each genre\n",
    "    - sum up user ratings for apps of that genre\n",
    "    - divide sum by number of apps in that genre\n",
    "    \n",
    "    \n",
    "    "
   ]
  },
  {
   "cell_type": "code",
   "execution_count": 65,
   "metadata": {
    "collapsed": false
   },
   "outputs": [
    {
     "name": "stdout",
     "output_type": "stream",
     "text": [
      "Navigation : 86090.33\n",
      "Reference : 74942.11\n",
      "Social Networking : 71548.35\n",
      "Music : 57326.53\n",
      "Weather : 52279.89\n",
      "Book : 39758.5\n",
      "Food & Drink : 33333.92\n",
      "Finance : 31467.94\n",
      "Photo & Video : 28441.54\n",
      "Travel : 28243.8\n",
      "Shopping : 26919.69\n",
      "Health & Fitness : 23298.02\n",
      "Sports : 23008.9\n",
      "Games : 22812.92\n",
      "News : 21248.02\n",
      "Productivity : 21028.41\n",
      "Utilities : 18684.46\n",
      "Lifestyle : 16485.76\n",
      "Entertainment : 14029.83\n",
      "Business : 7491.12\n",
      "Education : 7003.98\n",
      "Catalogs : 4004.0\n",
      "Medical : 612.0\n"
     ]
    }
   ],
   "source": [
    "frequency_table = freq_table(data_apple_clean, 11)\n",
    "freq_table_ratings = {}\n",
    "for genre in frequency_table:\n",
    "    total = 0\n",
    "    len_genre = 0\n",
    "    for row in data_apple_clean:\n",
    "        genre_app = row[11]\n",
    "        if genre_app == genre:\n",
    "            num_ratings = float(row[5])\n",
    "            total += num_ratings\n",
    "            len_genre += 1\n",
    "    avg_num_ratings = round(total / len_genre, 2)\n",
    "    freq_table_ratings[genre] = avg_num_ratings\n",
    "\n",
    "table_display = []\n",
    "for key in freq_table_ratings:\n",
    "        key_val_as_tuple = (freq_table_ratings[key], key)\n",
    "        table_display.append(key_val_as_tuple)\n",
    "\n",
    "table_sorted = sorted(table_display, reverse = True)\n",
    "for entry in table_sorted:\n",
    "    print(entry[1], ':', round(entry[0], 2))            "
   ]
  },
  {
   "cell_type": "markdown",
   "metadata": {},
   "source": [
    "In Apple App Store, navigation seems to be the most commonly used, with reference and social networking following closely behind.\n",
    "- Navigation takes up only 0.19% of apple store apps, but is the most reviewed. This suggests that many users use a small amount of navigation apps. This seems like a good candidate for an app because there will be a large potential customer base with a small amount of competition\n",
    "- Reference is similar, though it will have over twice the competition (makes up 0.56% of app store) and approx. 13% lower customer base than navigation\n",
    "    - However, users may be more likely to download a new reference app than a navigation app. Many users may be uninterested in switching up their navigation apps, but may be interested in obtaining a new reference app.\n",
    "- Social networking and music also have large customer bases, however they take up a larger portion of the app store so there will be much more competition as well\n",
    "\n",
    "\n",
    "\n",
    "\n",
    "Google's Installs column may be a more accurate metric than Apple's number of ratings, however this metric is not very precise because it contains open-ended values (100+, 1000+, 5000+, etc.). This should work well enough to get an accurate picture, though. We will assume that 100,000+ will be 100,000, 10,000+ will be 10,000, etc.\n",
    "\n",
    "- will need to take out commas and plus signs\n",
    "\n",
    "    \n",
    "    \n"
   ]
  },
  {
   "cell_type": "code",
   "execution_count": 70,
   "metadata": {
    "collapsed": false
   },
   "outputs": [
    {
     "name": "stdout",
     "output_type": "stream",
     "text": [
      "COMMUNICATION : 38456119.17\n",
      "VIDEO_PLAYERS : 24727872.45\n",
      "SOCIAL : 23253652.13\n",
      "PHOTOGRAPHY : 17840110.4\n",
      "PRODUCTIVITY : 16787331.34\n",
      "GAME : 15588015.6\n",
      "TRAVEL_AND_LOCAL : 13984077.71\n",
      "ENTERTAINMENT : 11640705.88\n",
      "TOOLS : 10801391.3\n",
      "NEWS_AND_MAGAZINES : 9549178.47\n",
      "BOOKS_AND_REFERENCE : 8767811.89\n",
      "SHOPPING : 7036877.31\n",
      "PERSONALIZATION : 5201482.61\n",
      "WEATHER : 5074486.2\n",
      "HEALTH_AND_FITNESS : 4188821.99\n",
      "MAPS_AND_NAVIGATION : 4056941.77\n",
      "FAMILY : 3697848.17\n",
      "SPORTS : 3638640.14\n",
      "ART_AND_DESIGN : 1986335.09\n",
      "FOOD_AND_DRINK : 1924897.74\n",
      "EDUCATION : 1833495.15\n",
      "BUSINESS : 1712290.15\n",
      "LIFESTYLE : 1437816.27\n",
      "FINANCE : 1387692.48\n",
      "HOUSE_AND_HOME : 1331540.56\n",
      "DATING : 854028.83\n",
      "COMICS : 817657.27\n",
      "AUTO_AND_VEHICLES : 647317.82\n",
      "LIBRARIES_AND_DEMO : 638503.73\n",
      "PARENTING : 542603.62\n",
      "BEAUTY : 513151.89\n",
      "EVENTS : 253542.22\n",
      "MEDICAL : 120550.62\n"
     ]
    }
   ],
   "source": [
    "frequency_table = freq_table(data_google_clean, 1)\n",
    "freq_table_installs = {}\n",
    "for category in frequency_table:\n",
    "    total = 0\n",
    "    len_category = 0\n",
    "    for row in data_google_clean:\n",
    "        category_app = row[1]\n",
    "        if category_app == category:\n",
    "            num_installs = row[5]\n",
    "            num_installs = num_installs.replace('+', '')\n",
    "            num_installs = num_installs.replace(',', '')\n",
    "            num_installs = float(num_installs)\n",
    "            total += num_installs\n",
    "            len_category += 1\n",
    "    avg_num_installs = round(total / len_category, 2)\n",
    "    freq_table_installs[category] = avg_num_installs\n",
    "\n",
    "table_display = []\n",
    "for key in freq_table_installs:\n",
    "        key_val_as_tuple = (freq_table_installs[key], key)\n",
    "        table_display.append(key_val_as_tuple)\n",
    "\n",
    "table_sorted = sorted(table_display, reverse = True)\n",
    "for entry in table_sorted:\n",
    "    print(entry[1], ':', round(entry[0], 2))  "
   ]
  },
  {
   "cell_type": "markdown",
   "metadata": {},
   "source": [
    "In the Google Play Store, communication is by far the most commonly installed. This category makes up 3.24% of the Google Play Store, which is not very high but not very low either. It may be difficult to get people to switch to new modes of communication, and it may be difficult to make money off ads from communication apps because users would be annoyed with ads when theyre trying to message. \n",
    "\n",
    "Video players and social media have the second and third most installs and make up 1.79% and 2.66% of the Google Play Store, respectively. These may be better suited for our profit motive because ads are very common on these platforms, and they have a lot of potential users with a relatively small amount of competition. Video players and social media will also transfer over to iOS better than many of the common apps on the google play store such as productivity apps, as they don't require any special permissions that users are able to give on android but not iOS.\n",
    "\n",
    "\n",
    "# Summary\n",
    "Overall, I would recommend creating a video player or social media app. They will give us a large potential customer base, and have a relatively small amount of competition. These genres are also well suited for ads.\n",
    "\n",
    "Games are also a genre to consider, however the Apple App Store has a large amount of competition and it may be tough to gain a large enough user base to become profitable."
   ]
  }
 ],
 "metadata": {
  "kernelspec": {
   "display_name": "Python 3",
   "language": "python",
   "name": "python3"
  },
  "language_info": {
   "codemirror_mode": {
    "name": "ipython",
    "version": 3
   },
   "file_extension": ".py",
   "mimetype": "text/x-python",
   "name": "python",
   "nbconvert_exporter": "python",
   "pygments_lexer": "ipython3",
   "version": "3.4.3"
  }
 },
 "nbformat": 4,
 "nbformat_minor": 2
}
