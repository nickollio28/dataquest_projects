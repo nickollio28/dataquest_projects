{
 "cells": [
  {
   "cell_type": "markdown",
   "metadata": {},
   "source": [
    "# Mobile App for Lottery Addiction\n",
    "\n",
    "A medical institute that aims to prevent and treat gambling addictions wants to build a dedicated mobile app to help lottery addicts better estimate their chances of winning. The institute has a team of engineers that will build the app, but they need us to create the logical core of the app and calculate probabilities.\n",
    "\n",
    "For the first version of the app, they want us to focus on the [6/49](https://en.wikipedia.org/wiki/Lotto_6/49) lottery and build functions that enable users to answer questions like:\n",
    "\n",
    "- What is the probability of winning the big prize with a single ticket?\n",
    "- What is the probability of winning the big prize if we play 40 different tickets (or any other number)?\n",
    "- What is the probability of having at least five (or four, or three, or two) winning numbers on a single ticket?\n",
    "\n",
    "The institute also wants us to consider historical data coming from the national 6/49 lottery game in Canada. [The data set](https://www.kaggle.com/datascienceai/lottery-dataset) has data for 3,665 drawings, dating from 1982 to 2018 (we'll come back to this).\n",
    "\n",
    "Throughout this project, we'll need to calculate repeatedly probabilities and combinations. So we'll start by writing two functions that we'll use often:\n",
    "- A function that calculates factorials\n",
    "- A function that calculates combinations\n",
    "\n",
    "In the 6/49 lottery, six numbers are drawn from a set of 49 numbers that range from 1 to 49. The drawing is done without replacement, which means once a number is drawn, it's not put back in the set."
   ]
  },
  {
   "cell_type": "code",
   "execution_count": 1,
   "metadata": {
    "collapsed": true
   },
   "outputs": [],
   "source": [
    "def factorial(n):\n",
    "    result = 1\n",
    "    for i in range(n,0,-1):\n",
    "        result *= i\n",
    "    return result\n",
    "\n",
    "def combinations(n, k):\n",
    "    return factorial(n)/(factorial(k)*(factorial(n-k)))"
   ]
  },
  {
   "cell_type": "markdown",
   "metadata": {},
   "source": [
    "We will now calculate the probability of winning the big prize in the 6/49 Lottery, in which the player wins if all six numbers on their ticket match the six numbers drawn, in any order.\n",
    "\n",
    "In the app, the user will input six different numbers from 1 to 49. Under the hood, the numbers will come as a python list, which will serve as the single input to our function. The engineering team wants the function to print the probability in a way in which people without probability training will understand."
   ]
  },
  {
   "cell_type": "code",
   "execution_count": 7,
   "metadata": {
    "collapsed": true
   },
   "outputs": [],
   "source": [
    "def one_ticket_probability(nums):\n",
    "    num_combinations = combinations(49,6)\n",
    "    prob_pct = 100/n_combinations\n",
    "    \n",
    "    print('''Your chances to win the big prize with the numbers {} are {:.7f}%.\n",
    "In other words, you have a 1 in {:,} chance of winning.'''.format(nums,\n",
    "                    prob_pct, int(num_combinations)))"
   ]
  },
  {
   "cell_type": "code",
   "execution_count": 8,
   "metadata": {
    "collapsed": false
   },
   "outputs": [
    {
     "name": "stdout",
     "output_type": "stream",
     "text": [
      "Your chances to win the big prize with the numbers [32, 25, 20, 3, 42, 1] are 0.0000072%.\n",
      "In other words, you have a 1 in 13,983,816 chance of winning.\n"
     ]
    }
   ],
   "source": [
    "# Test one_ticket_probability:\n",
    "\n",
    "one_ticket_probability([32,25,20,3,42,1])"
   ]
  },
  {
   "cell_type": "markdown",
   "metadata": {},
   "source": [
    "Here, the number of possible combinations in any order is given by our combination function. The probability of any single ticket winning is given by 1 / the number of combinations, and I multiplied this by 100 to return a percent.\n",
    "\n",
    "### Comparing with historical data\n",
    "\n",
    "For the first version of the app, users should also be able to compare their ticket against the historical lottery data in Canada and determine whether they would have ever won by now. The data set contains historical data for 3,665 drawings (each row shows data for a single drawing), dating from 1982 to 2018.\n",
    "\n",
    "I will open the dataset and explore it for now."
   ]
  },
  {
   "cell_type": "code",
   "execution_count": 24,
   "metadata": {
    "collapsed": false
   },
   "outputs": [
    {
     "name": "stdout",
     "output_type": "stream",
     "text": [
      "(3665, 11)\n",
      "   PRODUCT  DRAW NUMBER  SEQUENCE NUMBER  DRAW DATE  NUMBER DRAWN 1  \\\n",
      "0      649            1                0  6/12/1982               3   \n",
      "1      649            2                0  6/19/1982               8   \n",
      "2      649            3                0  6/26/1982               1   \n",
      "\n",
      "   NUMBER DRAWN 2  NUMBER DRAWN 3  NUMBER DRAWN 4  NUMBER DRAWN 5  \\\n",
      "0              11              12              14              41   \n",
      "1              33              36              37              39   \n",
      "2               6              23              24              27   \n",
      "\n",
      "   NUMBER DRAWN 6  BONUS NUMBER  \n",
      "0              43            13  \n",
      "1              41             9  \n",
      "2              39            34  \n",
      "      PRODUCT  DRAW NUMBER  SEQUENCE NUMBER  DRAW DATE  NUMBER DRAWN 1  \\\n",
      "3662      649         3589                0  6/13/2018               6   \n",
      "3663      649         3590                0  6/16/2018               2   \n",
      "3664      649         3591                0  6/20/2018              14   \n",
      "\n",
      "      NUMBER DRAWN 2  NUMBER DRAWN 3  NUMBER DRAWN 4  NUMBER DRAWN 5  \\\n",
      "3662              22              24              31              32   \n",
      "3663              15              21              31              38   \n",
      "3664              24              31              35              37   \n",
      "\n",
      "      NUMBER DRAWN 6  BONUS NUMBER  \n",
      "3662              34            16  \n",
      "3663              49             8  \n",
      "3664              48            17  \n"
     ]
    }
   ],
   "source": [
    "import pandas as pd\n",
    "lottery = pd.read_csv('649.csv')\n",
    "print(lottery.shape)\n",
    "print(lottery.head(3))\n",
    "print(lottery.tail(3))"
   ]
  },
  {
   "cell_type": "markdown",
   "metadata": {},
   "source": [
    "We're going to write a function that will enable users to compare their ticket against the historical lottery data in Canada and determine whether they would have ever won by now. The engineering team wants us to write a function that prints the number of times the combination selected occurred in the Canada data set, and the probability of winning the big prize in the next drawing with that combination."
   ]
  },
  {
   "cell_type": "code",
   "execution_count": 32,
   "metadata": {
    "collapsed": false
   },
   "outputs": [],
   "source": [
    "def extract_numbers(row):\n",
    "    row = row[4:10]\n",
    "    row = set(row.values)\n",
    "    return row\n",
    "\n",
    "\n",
    "def check_historical_occurance(user_list, winning_nums):\n",
    "    user_set = set(user_list)\n",
    "    check_win = winning_nums == user_set\n",
    "    num_wins = check_win.sum()\n",
    "    \n",
    "    num_combinations = combinations(49,6)\n",
    "    prob_pct = 100/num_combinations\n",
    "        \n",
    "    if num_wins == 0:\n",
    "        print('''The combination {} has never occured. Your chances to win the big prize in the next drawing using the combination {} are {:.7f}%, which is a 1 in {:,} chance of winning.'''.format(user_list, user_list, prob_pct, num_combinations))\n",
    "        \n",
    "    else:\n",
    "        print('''The number of times the combination {} has occured in the past is {}.\n",
    "Your chances to win the big prize in the next drawing using the combination {} are {:.7f}%, which is a 1 in {:,} chance of winning.'''.format(user_list, num_wins, user_list, prob_pct, num_combinations))\n",
    "    "
   ]
  },
  {
   "cell_type": "code",
   "execution_count": 39,
   "metadata": {
    "collapsed": false
   },
   "outputs": [
    {
     "name": "stdout",
     "output_type": "stream",
     "text": [
      "Attempt  1\n",
      "The combination [13, 34, 9, 24, 4, 8] has never occured. Your chances to win the big prize in the next drawing using the combination [13, 34, 9, 24, 4, 8] are 0.0000072%, which is a 1 in 13,983,816.0 chance of winning.\n",
      "\n",
      "\n",
      "Attempt  2\n",
      "The combination [6, 1, 31, 25, 35, 21] has never occured. Your chances to win the big prize in the next drawing using the combination [6, 1, 31, 25, 35, 21] are 0.0000072%, which is a 1 in 13,983,816.0 chance of winning.\n",
      "\n",
      "\n",
      "Attempt  3\n",
      "The combination [30, 24, 30, 34, 18, 45] has never occured. Your chances to win the big prize in the next drawing using the combination [30, 24, 30, 34, 18, 45] are 0.0000072%, which is a 1 in 13,983,816.0 chance of winning.\n",
      "\n",
      "\n",
      "Attempt  4\n",
      "The combination [3, 47, 42, 25, 49, 3] has never occured. Your chances to win the big prize in the next drawing using the combination [3, 47, 42, 25, 49, 3] are 0.0000072%, which is a 1 in 13,983,816.0 chance of winning.\n",
      "\n",
      "\n",
      "Attempt  5\n",
      "The combination [12, 29, 36, 38, 33, 47] has never occured. Your chances to win the big prize in the next drawing using the combination [12, 29, 36, 38, 33, 47] are 0.0000072%, which is a 1 in 13,983,816.0 chance of winning.\n",
      "\n",
      "\n",
      "Attempt  6\n",
      "The combination [7, 45, 41, 15, 40, 49] has never occured. Your chances to win the big prize in the next drawing using the combination [7, 45, 41, 15, 40, 49] are 0.0000072%, which is a 1 in 13,983,816.0 chance of winning.\n",
      "\n",
      "\n"
     ]
    }
   ],
   "source": [
    "winning_nums = lottery.apply(extract_numbers, axis=1)\n",
    "\n",
    "from random import randint\n",
    "for i in range(6):\n",
    "    print('Attempt ', i+1)\n",
    "    nums = []\n",
    "    for j in range(6):\n",
    "        nums.append(randint(1,49))\n",
    "\n",
    "    check_historical_occurance(nums, winning_nums)\n",
    "    print('\\n')"
   ]
  },
  {
   "cell_type": "markdown",
   "metadata": {},
   "source": [
    "In these last two steps, I first created a function to extract the winning numbers as a set, and another function to check if a user-given list was in any of the winning numbers. I then tested it 6 different times using random numbers from 1 to 49.\n",
    "\n",
    "I will now calculate the probability of a user winning with multiple tickets."
   ]
  },
  {
   "cell_type": "code",
   "execution_count": 44,
   "metadata": {
    "collapsed": false
   },
   "outputs": [
    {
     "name": "stdout",
     "output_type": "stream",
     "text": [
      "Using 1 tickets, your probability of winning is 0.0000072%, which is a 1 in 13983816 chance of winning\n",
      "Using 10 tickets, your probability of winning is 0.0000715%, which is a 1 in 1398381 chance of winning\n",
      "Using 100 tickets, your probability of winning is 0.0007151%, which is a 1 in 139838 chance of winning\n",
      "Using 10000 tickets, your probability of winning is 0.0715112%, which is a 1 in 1398 chance of winning\n",
      "Using 1000000 tickets, your probability of winning is 7.1511238%, which is a 1 in 13 chance of winning\n",
      "Using 6991908 tickets, your probability of winning is 50.0000000%, which is a 1 in 2 chance of winning\n",
      "Using 13983816 tickets, your probability of winning is 100.0000000%, which is a 1 in 1 chance of winning\n"
     ]
    }
   ],
   "source": [
    "def multi_ticket_probability(num_tickets):\n",
    "    num_outcomes = combinations(49,6)\n",
    "    probability = num_tickets / num_outcomes\n",
    "    prob_pct = probability * 100\n",
    "    print('''Using {} tickets, your probability of winning is {:.7f}%, which is a 1 in {} chance of winning'''.format(\n",
    "    num_tickets, prob_pct, int(num_outcomes // num_tickets)))\n",
    "    \n",
    "test = [1, 10, 100, 10000, 1000000, 6991908, 13983816]\n",
    "for i in test:\n",
    "    multi_ticket_probability(i)"
   ]
  },
  {
   "cell_type": "markdown",
   "metadata": {},
   "source": [
    "In most 6/49 lotteries there are smaller prizes if a player's ticket match two, three, four, or five of the six numbers drawn. As a consequence, the users might be interested in knowing the probability of having two, three, four, or five winning numbers. So, I am going to write one more function to allow the users to calculate probabilities for two, three, four, or five winning numbers.\n",
    "\n",
    "To accomplish this, I will first find the number of combinations of n winning numbers out of 6 total nummbers by using combinations(6,n). The number of combinations that have these n winning numbers is given by 43 choose (6-n), where there are 49-6 = 43 other possible numbers and 6-n spots where they can appear. The total number of successful outocmes will then be given by the product of these two values. I will then find the probability of this by dividing by the total number of possible outcomes, 49 choose 6. "
   ]
  },
  {
   "cell_type": "code",
   "execution_count": 47,
   "metadata": {
    "collapsed": false
   },
   "outputs": [
    {
     "name": "stdout",
     "output_type": "stream",
     "text": [
      "Your chances of having 2 winning numbers with this ticket are 13.23780%, which is a 1 in 7 chances to win.\n",
      "Your chances of having 3 winning numbers with this ticket are 1.76504%, which is a 1 in 56 chances to win.\n",
      "Your chances of having 4 winning numbers with this ticket are 0.09686%, which is a 1 in 1,032 chances to win.\n",
      "Your chances of having 5 winning numbers with this ticket are 0.00184%, which is a 1 in 54,200 chances to win.\n"
     ]
    }
   ],
   "source": [
    "def probabilities_less_6(n):\n",
    "    num_comb_tic = combinations(6,n)\n",
    "    num_comb_remaining = combinations(43, 6 - n) #43 because 49 - 6 numbers picked = 43 remaining numbers\n",
    "    num_succ_outcomes = num_comb_tic * num_comb_remaining\n",
    "    \n",
    "    total_comb = combinations(49,6)\n",
    "    probability = num_succ_outcomes / total_comb\n",
    "    prob_pct = probability * 100\n",
    "    \n",
    "    print('''Your chances of having {} winning numbers with this ticket are {:.5f}%, which is a 1 in {:,} chances to win.'''.format(\n",
    "        n, prob_pct, int(total_comb // num_succ_outcomes)))\n",
    "    \n",
    "for i in range(2,6):\n",
    "    probabilities_less_6(i)\n",
    "    "
   ]
  },
  {
   "cell_type": "markdown",
   "metadata": {},
   "source": [
    "There is a decently high chance of picking two winning numbers, and a relatively high chance of picking three or four."
   ]
  },
  {
   "cell_type": "code",
   "execution_count": null,
   "metadata": {
    "collapsed": true
   },
   "outputs": [],
   "source": []
  }
 ],
 "metadata": {
  "kernelspec": {
   "display_name": "Python 3",
   "language": "python",
   "name": "python3"
  },
  "language_info": {
   "codemirror_mode": {
    "name": "ipython",
    "version": 3
   },
   "file_extension": ".py",
   "mimetype": "text/x-python",
   "name": "python",
   "nbconvert_exporter": "python",
   "pygments_lexer": "ipython3",
   "version": "3.4.3"
  }
 },
 "nbformat": 4,
 "nbformat_minor": 2
}
