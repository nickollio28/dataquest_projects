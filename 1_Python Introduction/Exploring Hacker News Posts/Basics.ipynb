{
 "cells": [
  {
   "cell_type": "markdown",
   "metadata": {
    "collapsed": true
   },
   "source": [
    "# Exploring Hacker News Posts\n",
    "\n",
    "I will explore data from Hacker News posts ([link](https://www.kaggle.com/hacker-news/hacker-news-posts)), especially those whos titles begin with Ask HN or Show HN. Ask HN is for users to ask a question, and Show HN is for users to show off their projects. \n",
    "\n",
    "I will compare Ask HN and Show HN posts to see which receives more comments on average. I will determine if posts created at a certain time receive more comments on average"
   ]
  },
  {
   "cell_type": "code",
   "execution_count": 26,
   "metadata": {
    "collapsed": false
   },
   "outputs": [
    {
     "name": "stdout",
     "output_type": "stream",
     "text": [
      "['id', 'title', 'url', 'num_points', 'num_comments', 'author', 'created_at']\n",
      "\n",
      "\n",
      "['12224879', 'Interactive Dynamic Video', 'http://www.interactivedynamicvideo.com/', '386', '52', 'ne0phyte', '8/4/2016 11:52']\n",
      "\n",
      "\n",
      "['10975351', 'How to Use Open Source and Shut the Fuck Up at the Same Time', 'http://hueniverse.com/2016/01/26/how-to-use-open-source-and-shut-the-fuck-up-at-the-same-time/', '39', '10', 'josep2', '1/26/2016 19:30']\n",
      "\n",
      "\n",
      "['11964716', \"Florida DJs May Face Felony for April Fools' Water Joke\", 'http://www.thewire.com/entertainment/2013/04/florida-djs-april-fools-water-joke/63798/', '2', '1', 'vezycash', '6/23/2016 22:20']\n",
      "\n",
      "\n",
      "['11919867', 'Technology ventures: From Idea to Enterprise', 'https://www.amazon.com/Technology-Ventures-Enterprise-Thomas-Byers/dp/0073523429', '3', '1', 'hswarna', '6/17/2016 0:01']\n",
      "\n",
      "\n",
      "['10301696', 'Note by Note: The Making of Steinway L1037 (2007)', 'http://www.nytimes.com/2007/11/07/movies/07stein.html?_r=0', '8', '2', 'walterbell', '9/30/2015 4:12']\n",
      "\n",
      "\n"
     ]
    }
   ],
   "source": [
    "from csv import reader\n",
    "hn = list(reader(open('hacker_news.csv')))\n",
    "header = hn[0]\n",
    "hn = hn[1:]\n",
    "print(header)\n",
    "print('\\n')\n",
    "for row in hn[0:5]:\n",
    "    print(row)\n",
    "    print('\\n')\n",
    "    "
   ]
  },
  {
   "cell_type": "code",
   "execution_count": 36,
   "metadata": {
    "collapsed": false
   },
   "outputs": [
    {
     "name": "stdout",
     "output_type": "stream",
     "text": [
      "length of ask_posts:  1744\n",
      "length of show_posts:  1162\n",
      "length of other_posts:  17194\n"
     ]
    }
   ],
   "source": [
    "# create lists for ask hn, show hn, and other\n",
    "\n",
    "ask_posts = []\n",
    "show_posts = []\n",
    "other_posts = []\n",
    "\n",
    "for row in hn:\n",
    "    title = row[1]\n",
    "    if title.lower().startswith('ask hn'):\n",
    "        ask_posts.append(row)\n",
    "    elif title.lower().startswith('show hn'):\n",
    "        show_posts.append(row)\n",
    "    else:\n",
    "        other_posts.append(row)\n",
    "        \n",
    "print(\"length of ask_posts: \", len(ask_posts))\n",
    "print(\"length of show_posts: \", len(show_posts))\n",
    "print(\"length of other_posts: \", len(other_posts))"
   ]
  },
  {
   "cell_type": "code",
   "execution_count": 33,
   "metadata": {
    "collapsed": false
   },
   "outputs": [
    {
     "name": "stdout",
     "output_type": "stream",
     "text": [
      "Average ask comments:  14.04\n",
      "Average show comments:  6.87\n"
     ]
    }
   ],
   "source": [
    "total_ask_comments = 0\n",
    "for row in ask_posts:\n",
    "    total_ask_comments += int(row[4])\n",
    "avg_ask_comments = round(total_ask_comments / len(ask_posts), 2)\n",
    "\n",
    "total_show_comments = 0\n",
    "for row in show_posts:\n",
    "    total_show_comments += int(row[4])\n",
    "avg_show_comments = round(total_show_comments / len(ask_posts), 2)\n",
    "\n",
    "print(\"Average ask comments: \", avg_ask_comments)\n",
    "print(\"Average show comments: \", avg_show_comments)"
   ]
  },
  {
   "cell_type": "markdown",
   "metadata": {},
   "source": [
    "Ask posts receive more than double the comments on average. \n",
    "- this may be due to the fact that people are more willing to comment if they know the answer to someone's question than they are willing to comment on someone else's project where the poster isn't specifically looking for comments\n",
    "\n",
    "Since ask posts receive more comments, we will focus on these.\n",
    "\n",
    "Determine if posts created at a certain time are more likely to attract comments\n",
    "    - calculate amount of ask posts created in each hour of the day, along with number of comments received\n",
    "    - calculate average number of comments ask posts receive by hour created"
   ]
  },
  {
   "cell_type": "code",
   "execution_count": 59,
   "metadata": {
    "collapsed": false
   },
   "outputs": [
    {
     "name": "stdout",
     "output_type": "stream",
     "text": [
      "Average comments per post, by hour: \n",
      "\n",
      "00:00 - 8.13 average comments\n",
      "01:00 - 11.38 average comments\n",
      "02:00 - 23.81 average comments\n",
      "03:00 - 7.8 average comments\n",
      "04:00 - 7.17 average comments\n",
      "05:00 - 10.09 average comments\n",
      "06:00 - 9.02 average comments\n",
      "07:00 - 7.85 average comments\n",
      "08:00 - 10.25 average comments\n",
      "09:00 - 5.58 average comments\n",
      "10:00 - 13.44 average comments\n",
      "11:00 - 11.05 average comments\n",
      "12:00 - 9.41 average comments\n",
      "13:00 - 14.74 average comments\n",
      "14:00 - 13.23 average comments\n",
      "15:00 - 38.59 average comments\n",
      "16:00 - 16.8 average comments\n",
      "17:00 - 11.46 average comments\n",
      "18:00 - 13.2 average comments\n",
      "19:00 - 10.8 average comments\n",
      "20:00 - 21.52 average comments\n",
      "21:00 - 16.01 average comments\n",
      "22:00 - 6.75 average comments\n",
      "23:00 - 7.99 average comments\n",
      "\n",
      "\n",
      "Top 5 hours for Ask HN comments: \n",
      "\n",
      "15:00 - 38.59 average comments\n",
      "02:00 - 23.81 average comments\n",
      "20:00 - 21.52 average comments\n",
      "16:00 - 16.8 average comments\n",
      "21:00 - 16.01 average comments\n"
     ]
    }
   ],
   "source": [
    "import datetime as dt\n",
    "result_list = []\n",
    "for row in ask_posts:\n",
    "    created_at = row[6]\n",
    "    num_comments = int(row[4])\n",
    "    result_list.append([row[6], int(row[4])])\n",
    "\n",
    "counts_by_hour = {}\n",
    "comments_per_hour = {}\n",
    "for row in result_list:\n",
    "    date_time = dt.datetime.strptime(row[0], \"%m/%d/%Y %H:%M\")\n",
    "    hour = dt.datetime.strftime(date_time, '%H')\n",
    "    if hour not in counts_by_hour:\n",
    "        counts_by_hour[hour] = 1\n",
    "        comments_per_hour[hour] = row[1]\n",
    "    else:\n",
    "        counts_by_hour[hour] += 1\n",
    "        comments_per_hour[hour] += row[1]\n",
    "        \n",
    "        \n",
    "# use counts_by_hour and comments_per_hour to calculate average number of comments for post at each hour\n",
    "\n",
    "avg_by_hour = []\n",
    "for hour in comments_per_hour:\n",
    "    avg_by_hour.append([hour, comments_per_hour[hour] / counts_by_hour[hour]])\n",
    "\n",
    "from operator import itemgetter #sort\n",
    "avg_by_hour.sort(key=lambda x: x[0])\n",
    "\n",
    "print(\"Average comments per post, by hour: \\n\")\n",
    "template = \"{hour} - {comments} average comments\"\n",
    "for row in avg_by_hour:\n",
    "    hour_e = dt.datetime.strptime(row[0],'%H')\n",
    "    hour = dt.datetime.strftime(hour_e,'%H:%M')\n",
    "    comments = round(row[1], 2)\n",
    "    print(template.format(hour=hour, comments=comments))\n",
    "    \n",
    "    \n",
    "avg_by_hour.sort(key=lambda x: x[1], reverse=True)    \n",
    "print(\"\\n\\nTop 5 hours for Ask HN comments: \\n\")\n",
    "for row in avg_by_hour[:5]:\n",
    "    hour_e = dt.datetime.strptime(row[0],'%H')\n",
    "    hour = dt.datetime.strftime(hour_e,'%H:%M')\n",
    "    comments = round(row[1], 2)\n",
    "    print(template.format(hour=hour, comments=comments))\n",
    "    "
   ]
  },
  {
   "cell_type": "markdown",
   "metadata": {},
   "source": [
    "The [documentation](https://www.kaggle.com/hacker-news/hacker-news-posts) shows that these times are on EST\n",
    "\n",
    "If you wanted to create a post that would get the most comments, your best bet is between 3:00 and 4:00 PM EST\n",
    "If you are a night owl, the second best time to receive comments would be between 2:00 and 3:00 AM EST"
   ]
  }
 ],
 "metadata": {
  "kernelspec": {
   "display_name": "Python 3",
   "language": "python",
   "name": "python3"
  },
  "language_info": {
   "codemirror_mode": {
    "name": "ipython",
    "version": 3
   },
   "file_extension": ".py",
   "mimetype": "text/x-python",
   "name": "python",
   "nbconvert_exporter": "python",
   "pygments_lexer": "ipython3",
   "version": "3.4.3"
  }
 },
 "nbformat": 4,
 "nbformat_minor": 2
}
